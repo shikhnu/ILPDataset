{
 "cells": [
  {
   "cell_type": "code",
   "execution_count": 1,
   "metadata": {},
   "outputs": [],
   "source": [
    "import numpy as np\n",
    "import pandas as pd\n",
    "import seaborn as sns\n",
    "import matplotlib.pyplot as plt\n",
    "%matplotlib inline"
   ]
  },
  {
   "cell_type": "code",
   "execution_count": 2,
   "metadata": {},
   "outputs": [],
   "source": [
    "import scipy.stats as stats\n",
    "from scipy.stats import zscore\n",
    "import statsmodels.formula.api as smf\n",
    "import statsmodels.api as sm\n",
    "from sklearn.linear_model import LogisticRegression\n",
    "from sklearn.preprocessing import StandardScaler, binarize\n",
    "from sklearn.model_selection import train_test_split,RandomizedSearchCV\n",
    "from sklearn.metrics import roc_curve,roc_auc_score, mean_squared_error,accuracy_score,classification_report,cluster,confusion_matrix, cohen_kappa_score\n",
    "from scipy.stats import shapiro , levene , mannwhitneyu , chi2_contingency , chisquare\n",
    "from sklearn.tree import DecisionTreeClassifier\n",
    "from sklearn.ensemble import RandomForestClassifier\n",
    "from sklearn.neighbors import KNeighborsClassifier\n",
    "from sklearn.naive_bayes import GaussianNB\n",
    "from warnings import filterwarnings\n",
    "filterwarnings('ignore')\n",
    "sns.set_style('whitegrid')"
   ]
  },
  {
   "cell_type": "markdown",
   "metadata": {},
   "source": [
    "## Reading the dataset"
   ]
  },
  {
   "cell_type": "code",
   "execution_count": 3,
   "metadata": {},
   "outputs": [
    {
     "data": {
      "text/html": [
       "<div>\n",
       "<style scoped>\n",
       "    .dataframe tbody tr th:only-of-type {\n",
       "        vertical-align: middle;\n",
       "    }\n",
       "\n",
       "    .dataframe tbody tr th {\n",
       "        vertical-align: top;\n",
       "    }\n",
       "\n",
       "    .dataframe thead th {\n",
       "        text-align: right;\n",
       "    }\n",
       "</style>\n",
       "<table border=\"1\" class=\"dataframe\">\n",
       "  <thead>\n",
       "    <tr style=\"text-align: right;\">\n",
       "      <th></th>\n",
       "      <th>0</th>\n",
       "      <th>1</th>\n",
       "      <th>2</th>\n",
       "      <th>3</th>\n",
       "      <th>4</th>\n",
       "      <th>5</th>\n",
       "      <th>6</th>\n",
       "      <th>7</th>\n",
       "      <th>8</th>\n",
       "      <th>9</th>\n",
       "      <th>10</th>\n",
       "    </tr>\n",
       "  </thead>\n",
       "  <tbody>\n",
       "    <tr>\n",
       "      <th>0</th>\n",
       "      <td>65</td>\n",
       "      <td>Female</td>\n",
       "      <td>0.7</td>\n",
       "      <td>0.1</td>\n",
       "      <td>187</td>\n",
       "      <td>16</td>\n",
       "      <td>18</td>\n",
       "      <td>6.8</td>\n",
       "      <td>3.3</td>\n",
       "      <td>0.90</td>\n",
       "      <td>1</td>\n",
       "    </tr>\n",
       "    <tr>\n",
       "      <th>1</th>\n",
       "      <td>62</td>\n",
       "      <td>Male</td>\n",
       "      <td>10.9</td>\n",
       "      <td>5.5</td>\n",
       "      <td>699</td>\n",
       "      <td>64</td>\n",
       "      <td>100</td>\n",
       "      <td>7.5</td>\n",
       "      <td>3.2</td>\n",
       "      <td>0.74</td>\n",
       "      <td>1</td>\n",
       "    </tr>\n",
       "    <tr>\n",
       "      <th>2</th>\n",
       "      <td>62</td>\n",
       "      <td>Male</td>\n",
       "      <td>7.3</td>\n",
       "      <td>4.1</td>\n",
       "      <td>490</td>\n",
       "      <td>60</td>\n",
       "      <td>68</td>\n",
       "      <td>7.0</td>\n",
       "      <td>3.3</td>\n",
       "      <td>0.89</td>\n",
       "      <td>1</td>\n",
       "    </tr>\n",
       "    <tr>\n",
       "      <th>3</th>\n",
       "      <td>58</td>\n",
       "      <td>Male</td>\n",
       "      <td>1.0</td>\n",
       "      <td>0.4</td>\n",
       "      <td>182</td>\n",
       "      <td>14</td>\n",
       "      <td>20</td>\n",
       "      <td>6.8</td>\n",
       "      <td>3.4</td>\n",
       "      <td>1.00</td>\n",
       "      <td>1</td>\n",
       "    </tr>\n",
       "    <tr>\n",
       "      <th>4</th>\n",
       "      <td>72</td>\n",
       "      <td>Male</td>\n",
       "      <td>3.9</td>\n",
       "      <td>2.0</td>\n",
       "      <td>195</td>\n",
       "      <td>27</td>\n",
       "      <td>59</td>\n",
       "      <td>7.3</td>\n",
       "      <td>2.4</td>\n",
       "      <td>0.40</td>\n",
       "      <td>1</td>\n",
       "    </tr>\n",
       "  </tbody>\n",
       "</table>\n",
       "</div>"
      ],
      "text/plain": [
       "   0       1     2    3    4   5    6    7    8     9   10\n",
       "0  65  Female   0.7  0.1  187  16   18  6.8  3.3  0.90   1\n",
       "1  62    Male  10.9  5.5  699  64  100  7.5  3.2  0.74   1\n",
       "2  62    Male   7.3  4.1  490  60   68  7.0  3.3  0.89   1\n",
       "3  58    Male   1.0  0.4  182  14   20  6.8  3.4  1.00   1\n",
       "4  72    Male   3.9  2.0  195  27   59  7.3  2.4  0.40   1"
      ]
     },
     "execution_count": 3,
     "metadata": {},
     "output_type": "execute_result"
    }
   ],
   "source": [
    "data = pd.read_csv(\"../input/indian-liver-patientd/ILPD.csv\", header=None)\n",
    "data.head()"
   ]
  },
  {
   "cell_type": "raw",
   "metadata": {},
   "source": [
    "Age - Age of the patient: Any patient whose age exceeded 89 is listed as being of age \"90 \n",
    "\n",
    "Gender - Gender of the patient \n",
    "\n",
    "TB - TB Total Bilirubin: A bilirubin test measures the amount of bilirubin in your blood. It’s used to help find the cause of health conditions like jaundice, anaemia, and liver disease. Bilirubin is an orangeyellow pigment that occurs normally when part of your red blood cells break down. \n",
    "\n",
    "DB - DB Direct Bilirubin: Higher than normal levels of bilirubin may indicate different types of liver problems. \n",
    "\n",
    "AAP - Alkphos Alkaline Phosphotase: If you show signs of liver disease or a bone disorder, your doctor may order an alkaline phosphatase (ALP) test to measure the amount of the enzyme in your blood and help in diagnosing the problem. \n",
    "\n",
    "SGPT - Sgpt Alamine Aminotransferase: The alanine aminotransferase (ALT) test is a blood test that checks for liver damage.\n",
    "\n",
    "SGOT - Sgot Aspartate Aminotransferase: AST is an enzyme your liver makes. Other organs, like your heart, kidneys, brain, and muscles, also make smaller amounts. AST is also called SGOT. \n",
    "\n",
    "TP - TP Total Protiens \n",
    "\n",
    "ALB - ALB Albumin: An albumin blood test is a type of liver function test. Liver function tests are blood tests that measure different enzymes and proteins in the liver, including albumin. An albumin test may also be part of a comprehensive metabolic panel, a test that measures several substances in your blood. \n",
    "\n",
    "AGAGR - A/G Ratio Albumin and Globulin Ratio \n",
    "\n",
    "Selector - Selector field used to split the data into two sets (labeled by the experts): Selector is a class label used to divide into groups(liver patient or not)."
   ]
  },
  {
   "cell_type": "code",
   "execution_count": 4,
   "metadata": {},
   "outputs": [
    {
     "data": {
      "text/html": [
       "<div>\n",
       "<style scoped>\n",
       "    .dataframe tbody tr th:only-of-type {\n",
       "        vertical-align: middle;\n",
       "    }\n",
       "\n",
       "    .dataframe tbody tr th {\n",
       "        vertical-align: top;\n",
       "    }\n",
       "\n",
       "    .dataframe thead th {\n",
       "        text-align: right;\n",
       "    }\n",
       "</style>\n",
       "<table border=\"1\" class=\"dataframe\">\n",
       "  <thead>\n",
       "    <tr style=\"text-align: right;\">\n",
       "      <th></th>\n",
       "      <th>Age</th>\n",
       "      <th>Gender</th>\n",
       "      <th>TB</th>\n",
       "      <th>DB</th>\n",
       "      <th>AAP</th>\n",
       "      <th>SGPT</th>\n",
       "      <th>SGOT</th>\n",
       "      <th>TP</th>\n",
       "      <th>ALB</th>\n",
       "      <th>AGRAGR</th>\n",
       "      <th>Selector</th>\n",
       "    </tr>\n",
       "  </thead>\n",
       "  <tbody>\n",
       "    <tr>\n",
       "      <th>0</th>\n",
       "      <td>65</td>\n",
       "      <td>Female</td>\n",
       "      <td>0.7</td>\n",
       "      <td>0.1</td>\n",
       "      <td>187</td>\n",
       "      <td>16</td>\n",
       "      <td>18</td>\n",
       "      <td>6.8</td>\n",
       "      <td>3.3</td>\n",
       "      <td>0.90</td>\n",
       "      <td>1</td>\n",
       "    </tr>\n",
       "    <tr>\n",
       "      <th>1</th>\n",
       "      <td>62</td>\n",
       "      <td>Male</td>\n",
       "      <td>10.9</td>\n",
       "      <td>5.5</td>\n",
       "      <td>699</td>\n",
       "      <td>64</td>\n",
       "      <td>100</td>\n",
       "      <td>7.5</td>\n",
       "      <td>3.2</td>\n",
       "      <td>0.74</td>\n",
       "      <td>1</td>\n",
       "    </tr>\n",
       "    <tr>\n",
       "      <th>2</th>\n",
       "      <td>62</td>\n",
       "      <td>Male</td>\n",
       "      <td>7.3</td>\n",
       "      <td>4.1</td>\n",
       "      <td>490</td>\n",
       "      <td>60</td>\n",
       "      <td>68</td>\n",
       "      <td>7.0</td>\n",
       "      <td>3.3</td>\n",
       "      <td>0.89</td>\n",
       "      <td>1</td>\n",
       "    </tr>\n",
       "    <tr>\n",
       "      <th>3</th>\n",
       "      <td>58</td>\n",
       "      <td>Male</td>\n",
       "      <td>1.0</td>\n",
       "      <td>0.4</td>\n",
       "      <td>182</td>\n",
       "      <td>14</td>\n",
       "      <td>20</td>\n",
       "      <td>6.8</td>\n",
       "      <td>3.4</td>\n",
       "      <td>1.00</td>\n",
       "      <td>1</td>\n",
       "    </tr>\n",
       "    <tr>\n",
       "      <th>4</th>\n",
       "      <td>72</td>\n",
       "      <td>Male</td>\n",
       "      <td>3.9</td>\n",
       "      <td>2.0</td>\n",
       "      <td>195</td>\n",
       "      <td>27</td>\n",
       "      <td>59</td>\n",
       "      <td>7.3</td>\n",
       "      <td>2.4</td>\n",
       "      <td>0.40</td>\n",
       "      <td>1</td>\n",
       "    </tr>\n",
       "  </tbody>\n",
       "</table>\n",
       "</div>"
      ],
      "text/plain": [
       "   Age  Gender    TB   DB  AAP  SGPT  SGOT   TP  ALB  AGRAGR  Selector\n",
       "0   65  Female   0.7  0.1  187    16    18  6.8  3.3    0.90         1\n",
       "1   62    Male  10.9  5.5  699    64   100  7.5  3.2    0.74         1\n",
       "2   62    Male   7.3  4.1  490    60    68  7.0  3.3    0.89         1\n",
       "3   58    Male   1.0  0.4  182    14    20  6.8  3.4    1.00         1\n",
       "4   72    Male   3.9  2.0  195    27    59  7.3  2.4    0.40         1"
      ]
     },
     "execution_count": 4,
     "metadata": {},
     "output_type": "execute_result"
    }
   ],
   "source": [
    "data = pd.read_csv ( \"../input/indian-liver-patientd/ILPD.csv\" , names = [ \"Age\" , \"Gender\" , \"TB\" , \"DB\" , \"AAP\" ,\n",
    "                            \"SGPT\" , \"SGOT\" , \"TP\" , \"ALB\" , \"AGRAGR\" , \"Selector\" ] )\n",
    "data.head ( )"
   ]
  },
  {
   "cell_type": "markdown",
   "metadata": {},
   "source": [
    "## Summarizing important observations from the data set."
   ]
  },
  {
   "cell_type": "code",
   "execution_count": 5,
   "metadata": {},
   "outputs": [
    {
     "name": "stdout",
     "output_type": "stream",
     "text": [
      "Number of Rows in the dataset: 583\n",
      "Number of Columns in the dataset: 11\n"
     ]
    }
   ],
   "source": [
    "print ( \"Number of Rows in the dataset:\" , data.shape [ 0 ] )\n",
    "print ( \"Number of Columns in the dataset:\" , data.shape [ 1 ] )"
   ]
  },
  {
   "cell_type": "code",
   "execution_count": 6,
   "metadata": {},
   "outputs": [
    {
     "name": "stdout",
     "output_type": "stream",
     "text": [
      "<class 'pandas.core.frame.DataFrame'>\n",
      "RangeIndex: 583 entries, 0 to 582\n",
      "Data columns (total 11 columns):\n",
      "Age         583 non-null int64\n",
      "Gender      583 non-null object\n",
      "TB          583 non-null float64\n",
      "DB          583 non-null float64\n",
      "AAP         583 non-null int64\n",
      "SGPT        583 non-null int64\n",
      "SGOT        583 non-null int64\n",
      "TP          583 non-null float64\n",
      "ALB         583 non-null float64\n",
      "AGRAGR      579 non-null float64\n",
      "Selector    583 non-null int64\n",
      "dtypes: float64(5), int64(5), object(1)\n",
      "memory usage: 50.2+ KB\n"
     ]
    }
   ],
   "source": [
    "data.info()"
   ]
  },
  {
   "cell_type": "code",
   "execution_count": 7,
   "metadata": {},
   "outputs": [
    {
     "name": "stdout",
     "output_type": "stream",
     "text": [
      "Categorical features:\n",
      " ['Gender']\n",
      "\n",
      "\n",
      "Continuous features:\n",
      " ['Age', 'TB', 'DB', 'AAP', 'SGPT', 'SGOT', 'TP', 'ALB', 'AGRAGR', 'Selector']\n"
     ]
    }
   ],
   "source": [
    "categorical = list ( data.select_dtypes ( include = \"object\" ).columns )\n",
    "print ( \"Categorical features:\\n\" , categorical )\n",
    "print ( \"\\n\" )\n",
    "numerical = list ( data.select_dtypes ( exclude = \"object\" ).columns )\n",
    "print ( \"Continuous features:\\n\" , numerical )"
   ]
  },
  {
   "cell_type": "code",
   "execution_count": 8,
   "metadata": {},
   "outputs": [],
   "source": [
    "# Since the target variablle is numerical, converting it to categorical.\n",
    "data [ \"Selector\" ] = data [ \"Selector\" ].astype ( str )"
   ]
  },
  {
   "cell_type": "code",
   "execution_count": 9,
   "metadata": {},
   "outputs": [
    {
     "name": "stdout",
     "output_type": "stream",
     "text": [
      "Categorical features:\n",
      " ['Gender', 'Selector']\n",
      "\n",
      "\n",
      "Continuous features:\n",
      " ['Age', 'TB', 'DB', 'AAP', 'SGPT', 'SGOT', 'TP', 'ALB', 'AGRAGR']\n"
     ]
    }
   ],
   "source": [
    "categorical = list ( data.select_dtypes ( include = \"object\" ).columns )\n",
    "print ( \"Categorical features:\\n\" , categorical )\n",
    "print ( \"\\n\" )\n",
    "numerical = list ( data.select_dtypes ( exclude = \"object\" ).columns )\n",
    "print ( \"Continuous features:\\n\" , numerical )"
   ]
  },
  {
   "cell_type": "markdown",
   "metadata": {},
   "source": [
    "#### Five point summary:"
   ]
  },
  {
   "cell_type": "code",
   "execution_count": 10,
   "metadata": {},
   "outputs": [
    {
     "data": {
      "text/html": [
       "<div>\n",
       "<style scoped>\n",
       "    .dataframe tbody tr th:only-of-type {\n",
       "        vertical-align: middle;\n",
       "    }\n",
       "\n",
       "    .dataframe tbody tr th {\n",
       "        vertical-align: top;\n",
       "    }\n",
       "\n",
       "    .dataframe thead th {\n",
       "        text-align: right;\n",
       "    }\n",
       "</style>\n",
       "<table border=\"1\" class=\"dataframe\">\n",
       "  <thead>\n",
       "    <tr style=\"text-align: right;\">\n",
       "      <th></th>\n",
       "      <th>count</th>\n",
       "      <th>mean</th>\n",
       "      <th>std</th>\n",
       "      <th>min</th>\n",
       "      <th>25%</th>\n",
       "      <th>50%</th>\n",
       "      <th>75%</th>\n",
       "      <th>max</th>\n",
       "    </tr>\n",
       "  </thead>\n",
       "  <tbody>\n",
       "    <tr>\n",
       "      <th>Age</th>\n",
       "      <td>583.0</td>\n",
       "      <td>44.746141</td>\n",
       "      <td>16.189833</td>\n",
       "      <td>4.0</td>\n",
       "      <td>33.0</td>\n",
       "      <td>45.00</td>\n",
       "      <td>58.0</td>\n",
       "      <td>90.0</td>\n",
       "    </tr>\n",
       "    <tr>\n",
       "      <th>TB</th>\n",
       "      <td>583.0</td>\n",
       "      <td>3.298799</td>\n",
       "      <td>6.209522</td>\n",
       "      <td>0.4</td>\n",
       "      <td>0.8</td>\n",
       "      <td>1.00</td>\n",
       "      <td>2.6</td>\n",
       "      <td>75.0</td>\n",
       "    </tr>\n",
       "    <tr>\n",
       "      <th>DB</th>\n",
       "      <td>583.0</td>\n",
       "      <td>1.486106</td>\n",
       "      <td>2.808498</td>\n",
       "      <td>0.1</td>\n",
       "      <td>0.2</td>\n",
       "      <td>0.30</td>\n",
       "      <td>1.3</td>\n",
       "      <td>19.7</td>\n",
       "    </tr>\n",
       "    <tr>\n",
       "      <th>AAP</th>\n",
       "      <td>583.0</td>\n",
       "      <td>290.576329</td>\n",
       "      <td>242.937989</td>\n",
       "      <td>63.0</td>\n",
       "      <td>175.5</td>\n",
       "      <td>208.00</td>\n",
       "      <td>298.0</td>\n",
       "      <td>2110.0</td>\n",
       "    </tr>\n",
       "    <tr>\n",
       "      <th>SGPT</th>\n",
       "      <td>583.0</td>\n",
       "      <td>80.713551</td>\n",
       "      <td>182.620356</td>\n",
       "      <td>10.0</td>\n",
       "      <td>23.0</td>\n",
       "      <td>35.00</td>\n",
       "      <td>60.5</td>\n",
       "      <td>2000.0</td>\n",
       "    </tr>\n",
       "    <tr>\n",
       "      <th>SGOT</th>\n",
       "      <td>583.0</td>\n",
       "      <td>109.910806</td>\n",
       "      <td>288.918529</td>\n",
       "      <td>10.0</td>\n",
       "      <td>25.0</td>\n",
       "      <td>42.00</td>\n",
       "      <td>87.0</td>\n",
       "      <td>4929.0</td>\n",
       "    </tr>\n",
       "    <tr>\n",
       "      <th>TP</th>\n",
       "      <td>583.0</td>\n",
       "      <td>6.483190</td>\n",
       "      <td>1.085451</td>\n",
       "      <td>2.7</td>\n",
       "      <td>5.8</td>\n",
       "      <td>6.60</td>\n",
       "      <td>7.2</td>\n",
       "      <td>9.6</td>\n",
       "    </tr>\n",
       "    <tr>\n",
       "      <th>ALB</th>\n",
       "      <td>583.0</td>\n",
       "      <td>3.141852</td>\n",
       "      <td>0.795519</td>\n",
       "      <td>0.9</td>\n",
       "      <td>2.6</td>\n",
       "      <td>3.10</td>\n",
       "      <td>3.8</td>\n",
       "      <td>5.5</td>\n",
       "    </tr>\n",
       "    <tr>\n",
       "      <th>AGRAGR</th>\n",
       "      <td>579.0</td>\n",
       "      <td>0.947064</td>\n",
       "      <td>0.319592</td>\n",
       "      <td>0.3</td>\n",
       "      <td>0.7</td>\n",
       "      <td>0.93</td>\n",
       "      <td>1.1</td>\n",
       "      <td>2.8</td>\n",
       "    </tr>\n",
       "  </tbody>\n",
       "</table>\n",
       "</div>"
      ],
      "text/plain": [
       "        count        mean         std   min    25%     50%    75%     max\n",
       "Age     583.0   44.746141   16.189833   4.0   33.0   45.00   58.0    90.0\n",
       "TB      583.0    3.298799    6.209522   0.4    0.8    1.00    2.6    75.0\n",
       "DB      583.0    1.486106    2.808498   0.1    0.2    0.30    1.3    19.7\n",
       "AAP     583.0  290.576329  242.937989  63.0  175.5  208.00  298.0  2110.0\n",
       "SGPT    583.0   80.713551  182.620356  10.0   23.0   35.00   60.5  2000.0\n",
       "SGOT    583.0  109.910806  288.918529  10.0   25.0   42.00   87.0  4929.0\n",
       "TP      583.0    6.483190    1.085451   2.7    5.8    6.60    7.2     9.6\n",
       "ALB     583.0    3.141852    0.795519   0.9    2.6    3.10    3.8     5.5\n",
       "AGRAGR  579.0    0.947064    0.319592   0.3    0.7    0.93    1.1     2.8"
      ]
     },
     "execution_count": 10,
     "metadata": {},
     "output_type": "execute_result"
    }
   ],
   "source": [
    "#For numerical data\n",
    "data.describe().T"
   ]
  },
  {
   "cell_type": "code",
   "execution_count": 11,
   "metadata": {},
   "outputs": [
    {
     "data": {
      "text/html": [
       "<div>\n",
       "<style scoped>\n",
       "    .dataframe tbody tr th:only-of-type {\n",
       "        vertical-align: middle;\n",
       "    }\n",
       "\n",
       "    .dataframe tbody tr th {\n",
       "        vertical-align: top;\n",
       "    }\n",
       "\n",
       "    .dataframe thead th {\n",
       "        text-align: right;\n",
       "    }\n",
       "</style>\n",
       "<table border=\"1\" class=\"dataframe\">\n",
       "  <thead>\n",
       "    <tr style=\"text-align: right;\">\n",
       "      <th></th>\n",
       "      <th>count</th>\n",
       "      <th>unique</th>\n",
       "      <th>top</th>\n",
       "      <th>freq</th>\n",
       "      <th>mean</th>\n",
       "      <th>std</th>\n",
       "      <th>min</th>\n",
       "      <th>25%</th>\n",
       "      <th>50%</th>\n",
       "      <th>75%</th>\n",
       "      <th>max</th>\n",
       "    </tr>\n",
       "  </thead>\n",
       "  <tbody>\n",
       "    <tr>\n",
       "      <th>Age</th>\n",
       "      <td>583</td>\n",
       "      <td>NaN</td>\n",
       "      <td>NaN</td>\n",
       "      <td>NaN</td>\n",
       "      <td>44.7461</td>\n",
       "      <td>16.1898</td>\n",
       "      <td>4</td>\n",
       "      <td>33</td>\n",
       "      <td>45</td>\n",
       "      <td>58</td>\n",
       "      <td>90</td>\n",
       "    </tr>\n",
       "    <tr>\n",
       "      <th>Gender</th>\n",
       "      <td>583</td>\n",
       "      <td>2</td>\n",
       "      <td>Male</td>\n",
       "      <td>441</td>\n",
       "      <td>NaN</td>\n",
       "      <td>NaN</td>\n",
       "      <td>NaN</td>\n",
       "      <td>NaN</td>\n",
       "      <td>NaN</td>\n",
       "      <td>NaN</td>\n",
       "      <td>NaN</td>\n",
       "    </tr>\n",
       "    <tr>\n",
       "      <th>TB</th>\n",
       "      <td>583</td>\n",
       "      <td>NaN</td>\n",
       "      <td>NaN</td>\n",
       "      <td>NaN</td>\n",
       "      <td>3.2988</td>\n",
       "      <td>6.20952</td>\n",
       "      <td>0.4</td>\n",
       "      <td>0.8</td>\n",
       "      <td>1</td>\n",
       "      <td>2.6</td>\n",
       "      <td>75</td>\n",
       "    </tr>\n",
       "    <tr>\n",
       "      <th>DB</th>\n",
       "      <td>583</td>\n",
       "      <td>NaN</td>\n",
       "      <td>NaN</td>\n",
       "      <td>NaN</td>\n",
       "      <td>1.48611</td>\n",
       "      <td>2.8085</td>\n",
       "      <td>0.1</td>\n",
       "      <td>0.2</td>\n",
       "      <td>0.3</td>\n",
       "      <td>1.3</td>\n",
       "      <td>19.7</td>\n",
       "    </tr>\n",
       "    <tr>\n",
       "      <th>AAP</th>\n",
       "      <td>583</td>\n",
       "      <td>NaN</td>\n",
       "      <td>NaN</td>\n",
       "      <td>NaN</td>\n",
       "      <td>290.576</td>\n",
       "      <td>242.938</td>\n",
       "      <td>63</td>\n",
       "      <td>175.5</td>\n",
       "      <td>208</td>\n",
       "      <td>298</td>\n",
       "      <td>2110</td>\n",
       "    </tr>\n",
       "    <tr>\n",
       "      <th>SGPT</th>\n",
       "      <td>583</td>\n",
       "      <td>NaN</td>\n",
       "      <td>NaN</td>\n",
       "      <td>NaN</td>\n",
       "      <td>80.7136</td>\n",
       "      <td>182.62</td>\n",
       "      <td>10</td>\n",
       "      <td>23</td>\n",
       "      <td>35</td>\n",
       "      <td>60.5</td>\n",
       "      <td>2000</td>\n",
       "    </tr>\n",
       "    <tr>\n",
       "      <th>SGOT</th>\n",
       "      <td>583</td>\n",
       "      <td>NaN</td>\n",
       "      <td>NaN</td>\n",
       "      <td>NaN</td>\n",
       "      <td>109.911</td>\n",
       "      <td>288.919</td>\n",
       "      <td>10</td>\n",
       "      <td>25</td>\n",
       "      <td>42</td>\n",
       "      <td>87</td>\n",
       "      <td>4929</td>\n",
       "    </tr>\n",
       "    <tr>\n",
       "      <th>TP</th>\n",
       "      <td>583</td>\n",
       "      <td>NaN</td>\n",
       "      <td>NaN</td>\n",
       "      <td>NaN</td>\n",
       "      <td>6.48319</td>\n",
       "      <td>1.08545</td>\n",
       "      <td>2.7</td>\n",
       "      <td>5.8</td>\n",
       "      <td>6.6</td>\n",
       "      <td>7.2</td>\n",
       "      <td>9.6</td>\n",
       "    </tr>\n",
       "    <tr>\n",
       "      <th>ALB</th>\n",
       "      <td>583</td>\n",
       "      <td>NaN</td>\n",
       "      <td>NaN</td>\n",
       "      <td>NaN</td>\n",
       "      <td>3.14185</td>\n",
       "      <td>0.795519</td>\n",
       "      <td>0.9</td>\n",
       "      <td>2.6</td>\n",
       "      <td>3.1</td>\n",
       "      <td>3.8</td>\n",
       "      <td>5.5</td>\n",
       "    </tr>\n",
       "    <tr>\n",
       "      <th>AGRAGR</th>\n",
       "      <td>579</td>\n",
       "      <td>NaN</td>\n",
       "      <td>NaN</td>\n",
       "      <td>NaN</td>\n",
       "      <td>0.947064</td>\n",
       "      <td>0.319592</td>\n",
       "      <td>0.3</td>\n",
       "      <td>0.7</td>\n",
       "      <td>0.93</td>\n",
       "      <td>1.1</td>\n",
       "      <td>2.8</td>\n",
       "    </tr>\n",
       "    <tr>\n",
       "      <th>Selector</th>\n",
       "      <td>583</td>\n",
       "      <td>2</td>\n",
       "      <td>1</td>\n",
       "      <td>416</td>\n",
       "      <td>NaN</td>\n",
       "      <td>NaN</td>\n",
       "      <td>NaN</td>\n",
       "      <td>NaN</td>\n",
       "      <td>NaN</td>\n",
       "      <td>NaN</td>\n",
       "      <td>NaN</td>\n",
       "    </tr>\n",
       "  </tbody>\n",
       "</table>\n",
       "</div>"
      ],
      "text/plain": [
       "         count unique   top freq      mean       std  min    25%   50%   75%  \\\n",
       "Age        583    NaN   NaN  NaN   44.7461   16.1898    4     33    45    58   \n",
       "Gender     583      2  Male  441       NaN       NaN  NaN    NaN   NaN   NaN   \n",
       "TB         583    NaN   NaN  NaN    3.2988   6.20952  0.4    0.8     1   2.6   \n",
       "DB         583    NaN   NaN  NaN   1.48611    2.8085  0.1    0.2   0.3   1.3   \n",
       "AAP        583    NaN   NaN  NaN   290.576   242.938   63  175.5   208   298   \n",
       "SGPT       583    NaN   NaN  NaN   80.7136    182.62   10     23    35  60.5   \n",
       "SGOT       583    NaN   NaN  NaN   109.911   288.919   10     25    42    87   \n",
       "TP         583    NaN   NaN  NaN   6.48319   1.08545  2.7    5.8   6.6   7.2   \n",
       "ALB        583    NaN   NaN  NaN   3.14185  0.795519  0.9    2.6   3.1   3.8   \n",
       "AGRAGR     579    NaN   NaN  NaN  0.947064  0.319592  0.3    0.7  0.93   1.1   \n",
       "Selector   583      2     1  416       NaN       NaN  NaN    NaN   NaN   NaN   \n",
       "\n",
       "           max  \n",
       "Age         90  \n",
       "Gender     NaN  \n",
       "TB          75  \n",
       "DB        19.7  \n",
       "AAP       2110  \n",
       "SGPT      2000  \n",
       "SGOT      4929  \n",
       "TP         9.6  \n",
       "ALB        5.5  \n",
       "AGRAGR     2.8  \n",
       "Selector   NaN  "
      ]
     },
     "execution_count": 11,
     "metadata": {},
     "output_type": "execute_result"
    }
   ],
   "source": [
    "#For all features\n",
    "data.describe ( include = \"all\" ).T"
   ]
  },
  {
   "cell_type": "markdown",
   "metadata": {},
   "source": [
    "#### Summarize observations for categorical variables – no. of categories, % observations in each category "
   ]
  },
  {
   "cell_type": "code",
   "execution_count": 12,
   "metadata": {},
   "outputs": [
    {
     "name": "stdout",
     "output_type": "stream",
     "text": [
      "Column: Gender\n"
     ]
    },
    {
     "data": {
      "image/png": "[encoded data removed]",
      "text/plain": [
       "<Figure size 432x288 with 1 Axes>"
      ]
     },
     "metadata": {},
     "output_type": "display_data"
    },
    {
     "name": "stdout",
     "output_type": "stream",
     "text": [
      "Male      441\n",
      "Female    142\n",
      "Name: Gender, dtype: int64\n",
      "Male \t 75.64 %\n",
      "Female \t 24.36 %\n",
      "\n",
      "\n",
      "Column: Selector\n"
     ]
    },
    {
     "data": {
      "image/png": "[encoded data removed]",
      "text/plain": [
       "<Figure size 432x288 with 1 Axes>"
      ]
     },
     "metadata": {},
     "output_type": "display_data"
    },
    {
     "name": "stdout",
     "output_type": "stream",
     "text": [
      "1    416\n",
      "2    167\n",
      "Name: Selector, dtype: int64\n",
      "1 \t 71.36 %\n",
      "2 \t 28.64 %\n",
      "\n",
      "\n"
     ]
    }
   ],
   "source": [
    "for i in categorical:\n",
    "    print ( \"Column:\" , i )\n",
    "    sns.countplot(data[i])\n",
    "    plt.show()\n",
    "    print ( data [ i ].value_counts ( ) ) \n",
    "    d = data [ i ].value_counts ( )\n",
    "    j = 0\n",
    "    for i in d.index:\n",
    "        print ( i , \"\\t\" , round ( ( ( d [ j ] / data.shape [ 0 ] ) * 100  ) , 2 ) , \"%\" )\n",
    "        j += 1\n",
    "    \n",
    "    print ( \"\\n\" )"
   ]
  },
  {
   "cell_type": "code",
   "execution_count": 13,
   "metadata": {},
   "outputs": [
    {
     "name": "stdout",
     "output_type": "stream",
     "text": [
      "<class 'pandas.core.frame.DataFrame'>\n",
      "RangeIndex: 583 entries, 0 to 582\n",
      "Data columns (total 11 columns):\n",
      "Age         583 non-null int64\n",
      "Gender      583 non-null object\n",
      "TB          583 non-null float64\n",
      "DB          583 non-null float64\n",
      "AAP         583 non-null int64\n",
      "SGPT        583 non-null int64\n",
      "SGOT        583 non-null int64\n",
      "TP          583 non-null float64\n",
      "ALB         583 non-null float64\n",
      "AGRAGR      579 non-null float64\n",
      "Selector    583 non-null object\n",
      "dtypes: float64(5), int64(4), object(2)\n",
      "memory usage: 50.2+ KB\n"
     ]
    }
   ],
   "source": [
    "data.info ( )"
   ]
  },
  {
   "cell_type": "code",
   "execution_count": 14,
   "metadata": {},
   "outputs": [
    {
     "data": {
      "text/plain": [
       "Age          72\n",
       "Gender        2\n",
       "TB          113\n",
       "DB           80\n",
       "AAP         263\n",
       "SGPT        152\n",
       "SGOT        177\n",
       "TP           58\n",
       "ALB          40\n",
       "AGRAGR       69\n",
       "Selector      2\n",
       "dtype: int64"
      ]
     },
     "execution_count": 14,
     "metadata": {},
     "output_type": "execute_result"
    }
   ],
   "source": [
    "# number of distinct observations\n",
    "data.nunique ( )"
   ]
  },
  {
   "cell_type": "code",
   "execution_count": 15,
   "metadata": {},
   "outputs": [
    {
     "data": {
      "text/plain": [
       "Age         0\n",
       "Gender      0\n",
       "TB          0\n",
       "DB          0\n",
       "AAP         0\n",
       "SGPT        0\n",
       "SGOT        0\n",
       "TP          0\n",
       "ALB         0\n",
       "AGRAGR      4\n",
       "Selector    0\n",
       "dtype: int64"
      ]
     },
     "execution_count": 15,
     "metadata": {},
     "output_type": "execute_result"
    }
   ],
   "source": [
    "#Finding out missing or null values\n",
    "data.isnull ( ).sum ( )"
   ]
  },
  {
   "cell_type": "markdown",
   "metadata": {},
   "source": [
    "- There are 4 missing values in the AGAGR ( A/G Ratio Albumin and Globulin Ratio ) feature."
   ]
  },
  {
   "cell_type": "code",
   "execution_count": 16,
   "metadata": {},
   "outputs": [
    {
     "data": {
      "text/plain": [
       "Age         0.000000\n",
       "Gender      0.000000\n",
       "TB          0.000000\n",
       "DB          0.000000\n",
       "AAP         0.000000\n",
       "SGPT        0.000000\n",
       "SGOT        0.000000\n",
       "TP          0.000000\n",
       "ALB         0.000000\n",
       "AGRAGR      0.686106\n",
       "Selector    0.000000\n",
       "dtype: float64"
      ]
     },
     "execution_count": 16,
     "metadata": {},
     "output_type": "execute_result"
    }
   ],
   "source": [
    "# Computing missing values in percentage\n",
    "data.isnull ( ).sum ( ) / data.shape [ 0 ] * 100"
   ]
  },
  {
   "cell_type": "markdown",
   "metadata": {},
   "source": [
    "- The missing values in AGAGR constitutes for only 0.69% for the same."
   ]
  },
  {
   "cell_type": "code",
   "execution_count": 17,
   "metadata": {
    "scrolled": true
   },
   "outputs": [
    {
     "name": "stdout",
     "output_type": "stream",
     "text": [
      "Imputing AGAGR with mode as: 1.0\n"
     ]
    }
   ],
   "source": [
    "# Imputing AGAGR with mode since there are only 4 missing values\n",
    "print ( \"Imputing AGAGR with mode as:\" , data [ \"AGRAGR\" ].mode ( ) [ 0 ] )\n",
    "data [ \"AGRAGR\" ].fillna ( data [ \"AGRAGR\" ].mode ( ) [ 0 ] , inplace = True )"
   ]
  },
  {
   "cell_type": "code",
   "execution_count": 18,
   "metadata": {
    "scrolled": true
   },
   "outputs": [
    {
     "data": {
      "text/plain": [
       "Age         0.0\n",
       "Gender      0.0\n",
       "TB          0.0\n",
       "DB          0.0\n",
       "AAP         0.0\n",
       "SGPT        0.0\n",
       "SGOT        0.0\n",
       "TP          0.0\n",
       "ALB         0.0\n",
       "AGRAGR      0.0\n",
       "Selector    0.0\n",
       "dtype: float64"
      ]
     },
     "execution_count": 18,
     "metadata": {},
     "output_type": "execute_result"
    }
   ],
   "source": [
    "data.isnull ( ).sum ( ) / data.shape [ 0 ] * 100"
   ]
  },
  {
   "cell_type": "markdown",
   "metadata": {},
   "source": [
    "#### Finding outliers if any:"
   ]
  },
  {
   "cell_type": "code",
   "execution_count": 19,
   "metadata": {
    "scrolled": false
   },
   "outputs": [
    {
     "name": "stdout",
     "output_type": "stream",
     "text": [
      "Countplot for feature: Gender\n"
     ]
    },
    {
     "data": {
      "image/png": "[encoded data removed]",
      "text/plain": [
       "<Figure size 432x288 with 1 Axes>"
      ]
     },
     "metadata": {},
     "output_type": "display_data"
    },
    {
     "name": "stdout",
     "output_type": "stream",
     "text": [
      "Countplot for feature: Selector\n"
     ]
    },
    {
     "data": {
      "image/png": "[encoded data removed]",
      "text/plain": [
       "<Figure size 432x288 with 1 Axes>"
      ]
     },
     "metadata": {},
     "output_type": "display_data"
    }
   ],
   "source": [
    "for i in categorical:\n",
    "    print ( \"Countplot for feature:\" , i )\n",
    "    sns.countplot ( data [ i ] )\n",
    "    plt.show ( )"
   ]
  },
  {
   "cell_type": "code",
   "execution_count": 20,
   "metadata": {
    "scrolled": false
   },
   "outputs": [
    {
     "name": "stdout",
     "output_type": "stream",
     "text": [
      "Boxplot for feature: Age\n"
     ]
    },
    {
     "data": {
      "image/png": "[encoded data removed]",
      "text/plain": [
       "<Figure size 432x288 with 1 Axes>"
      ]
     },
     "metadata": {},
     "output_type": "display_data"
    },
    {
     "name": "stdout",
     "output_type": "stream",
     "text": [
      "Boxplot for feature: TB\n"
     ]
    },
    {
     "data": {
      "image/png": "[encoded data removed]",
      "text/plain": [
       "<Figure size 432x288 with 1 Axes>"
      ]
     },
     "metadata": {},
     "output_type": "display_data"
    },
    {
     "name": "stdout",
     "output_type": "stream",
     "text": [
      "Boxplot for feature: DB\n"
     ]
    },
    {
     "data": {
      "image/png": "[encoded data removed]",
      "text/plain": [
       "<Figure size 432x288 with 1 Axes>"
      ]
     },
     "metadata": {},
     "output_type": "display_data"
    },
    {
     "name": "stdout",
     "output_type": "stream",
     "text": [
      "Boxplot for feature: AAP\n"
     ]
    },
    {
     "data": {
      "image/png": "[encoded data removed]",
      "text/plain": [
       "<Figure size 432x288 with 1 Axes>"
      ]
     },
     "metadata": {},
     "output_type": "display_data"
    },
    {
     "name": "stdout",
     "output_type": "stream",
     "text": [
      "Boxplot for feature: SGPT\n"
     ]
    },
    {
     "data": {
      "image/png": "[encoded data removed]",
      "text/plain": [
       "<Figure size 432x288 with 1 Axes>"
      ]
     },
     "metadata": {},
     "output_type": "display_data"
    },
    {
     "name": "stdout",
     "output_type": "stream",
     "text": [
      "Boxplot for feature: SGOT\n"
     ]
    },
    {
     "data": {
      "image/png": "[encoded data removed]",
      "text/plain": [
       "<Figure size 432x288 with 1 Axes>"
      ]
     },
     "metadata": {},
     "output_type": "display_data"
    },
    {
     "name": "stdout",
     "output_type": "stream",
     "text": [
      "Boxplot for feature: TP\n"
     ]
    },
    {
     "data": {
      "image/png": "[encoded data removed]",
      "text/plain": [
       "<Figure size 432x288 with 1 Axes>"
      ]
     },
     "metadata": {},
     "output_type": "display_data"
    },
    {
     "name": "stdout",
     "output_type": "stream",
     "text": [
      "Boxplot for feature: ALB\n"
     ]
    },
    {
     "data": {
      "image/png": "[encoded data removed]",
      "text/plain": [
       "<Figure size 432x288 with 1 Axes>"
      ]
     },
     "metadata": {},
     "output_type": "display_data"
    },
    {
     "name": "stdout",
     "output_type": "stream",
     "text": [
      "Boxplot for feature: AGRAGR\n"
     ]
    },
    {
     "data": {
      "image/png": "[encoded data removed]",
      "text/plain": [
       "<Figure size 432x288 with 1 Axes>"
      ]
     },
     "metadata": {},
     "output_type": "display_data"
    }
   ],
   "source": [
    "#To find outliers:\n",
    "for i in numerical:\n",
    "    print ( \"Boxplot for feature:\" , i )\n",
    "    sns.boxplot ( data [ i ] )\n",
    "    plt.show ( )"
   ]
  },
  {
   "cell_type": "code",
   "execution_count": 21,
   "metadata": {
    "scrolled": false
   },
   "outputs": [
    {
     "name": "stdout",
     "output_type": "stream",
     "text": [
      "DistPlot for feature: Age\n",
      "Skewness for Age is: -0.029385312710346265\n",
      "Kurtosis for Age is: -0.5600656409430136\n"
     ]
    },
    {
     "data": {
      "image/png": "[encoded data removed]",
      "text/plain": [
       "<Figure size 432x288 with 1 Axes>"
      ]
     },
     "metadata": {},
     "output_type": "display_data"
    },
    {
     "name": "stdout",
     "output_type": "stream",
     "text": [
      "DistPlot for feature: TB\n",
      "Skewness for TB is: 4.90747399372197\n",
      "Kurtosis for TB is: 37.16379152039628\n"
     ]
    },
    {
     "data": {
      "image/png": "[encoded data removed]",
      "text/plain": [
       "<Figure size 432x288 with 1 Axes>"
      ]
     },
     "metadata": {},
     "output_type": "display_data"
    },
    {
     "name": "stdout",
     "output_type": "stream",
     "text": [
      "DistPlot for feature: DB\n",
      "Skewness for DB is: 3.21240286208773\n",
      "Kurtosis for DB is: 11.352528764019558\n"
     ]
    },
    {
     "data": {
      "image/png": "[encoded data removed]",
      "text/plain": [
       "<Figure size 432x288 with 1 Axes>"
      ]
     },
     "metadata": {},
     "output_type": "display_data"
    },
    {
     "name": "stdout",
     "output_type": "stream",
     "text": [
      "DistPlot for feature: AAP\n",
      "Skewness for AAP is: 3.7651063973073766\n",
      "Kurtosis for AAP is: 17.752828457480053\n"
     ]
    },
    {
     "data": {
      "image/png": "[encoded data removed]",
      "text/plain": [
       "<Figure size 432x288 with 1 Axes>"
      ]
     },
     "metadata": {},
     "output_type": "display_data"
    },
    {
     "name": "stdout",
     "output_type": "stream",
     "text": [
      "DistPlot for feature: SGPT\n",
      "Skewness for SGPT is: 6.549191929444977\n",
      "Kurtosis for SGPT is: 50.57944964495758\n"
     ]
    },
    {
     "data": {
      "image/png": "[encoded data removed]",
      "text/plain": [
       "<Figure size 432x288 with 1 Axes>"
      ]
     },
     "metadata": {},
     "output_type": "display_data"
    },
    {
     "name": "stdout",
     "output_type": "stream",
     "text": [
      "DistPlot for feature: SGOT\n",
      "Skewness for SGOT is: 10.54617721691247\n",
      "Kurtosis for SGOT is: 150.91988364408164\n"
     ]
    },
    {
     "data": {
      "image/png": "[encoded data removed]",
      "text/plain": [
       "<Figure size 432x288 with 1 Axes>"
      ]
     },
     "metadata": {},
     "output_type": "display_data"
    },
    {
     "name": "stdout",
     "output_type": "stream",
     "text": [
      "DistPlot for feature: TP\n",
      "Skewness for TP is: -0.28567218643573844\n",
      "Kurtosis for TP is: 0.23303858560487622\n"
     ]
    },
    {
     "data": {
      "image/png": "[encoded data removed]",
      "text/plain": [
       "<Figure size 432x288 with 1 Axes>"
      ]
     },
     "metadata": {},
     "output_type": "display_data"
    },
    {
     "name": "stdout",
     "output_type": "stream",
     "text": [
      "DistPlot for feature: ALB\n",
      "Skewness for ALB is: -0.04368472854683253\n",
      "Kurtosis for ALB is: -0.3879048071837383\n"
     ]
    },
    {
     "data": {
      "image/png": "[encoded data removed]",
      "text/plain": [
       "<Figure size 432x288 with 1 Axes>"
      ]
     },
     "metadata": {},
     "output_type": "display_data"
    },
    {
     "name": "stdout",
     "output_type": "stream",
     "text": [
      "DistPlot for feature: AGRAGR\n",
      "Skewness for AGRAGR is: 0.9920209486929165\n",
      "Kurtosis for AGRAGR is: 3.3181878903768767\n"
     ]
    },
    {
     "data": {
      "image/png": "[encoded data removed]",
      "text/plain": [
       "<Figure size 432x288 with 1 Axes>"
      ]
     },
     "metadata": {},
     "output_type": "display_data"
    }
   ],
   "source": [
    "for i in numerical:\n",
    "    print ( \"DistPlot for feature:\" , i )\n",
    "    print ( \"Skewness for\" , i , \"is:\" , data [ i ].skew ( ) )\n",
    "    print ( \"Kurtosis for\" , i , \"is:\" , data [ i ].kurtosis ( ) )\n",
    "\n",
    "    sns.distplot ( data [ i ] )\n",
    "    plt.show ( )"
   ]
  },
  {
   "cell_type": "markdown",
   "metadata": {},
   "source": [
    "- Variables have outliers but since the extreme values are genuine and since the data is less, we will not eliminate those.\n",
    "- Instead, we will go for Standard scaling so as to normalize the features."
   ]
  },
  {
   "cell_type": "code",
   "execution_count": 22,
   "metadata": {},
   "outputs": [
    {
     "data": {
      "image/png": "[encoded data removed]",
      "text/plain": [
       "<Figure size 432x288 with 1 Axes>"
      ]
     },
     "metadata": {},
     "output_type": "display_data"
    },
    {
     "name": "stdout",
     "output_type": "stream",
     "text": [
      "1    416\n",
      "2    167\n",
      "Name: Selector, dtype: int64\n",
      "Selector \t 71.36 %\n",
      "Selector \t 28.64 %\n"
     ]
    }
   ],
   "source": [
    "#Count for target variables\n",
    "sns.countplot(data['Selector'])\n",
    "plt.show()\n",
    "print ( data [ 'Selector' ].value_counts ( ) ) \n",
    "d = data [ 'Selector' ].value_counts ( )\n",
    "j=0\n",
    "for i in d.index:\n",
    "        print ( 'Selector' , \"\\t\" , round ( ( ( d [ j ] / data.shape [ 0 ] ) * 100  ) , 2 ) , \"%\" )\n",
    "        j += 1"
   ]
  },
  {
   "cell_type": "markdown",
   "metadata": {},
   "source": [
    "- The target variable is not evenly distributed and therefore, we need to balance it. \n",
    "- In classification we can balance the data using SMOTE or NearMiss.\n",
    "- According to it if the minority class is less than 20% of the majority class, we need to balance the data.\n",
    "- But the minority class in this case is above 20% of the majority class. \n",
    "- Hence, we don't need to use Balancing methods."
   ]
  },
  {
   "cell_type": "code",
   "execution_count": 23,
   "metadata": {},
   "outputs": [],
   "source": [
    "# Converting target variable to categorical sing the feature is inter of '0' and '1'.\n",
    "data [ \"Selector\" ] = data [ \"Selector\" ].astype ( int )"
   ]
  },
  {
   "cell_type": "code",
   "execution_count": 24,
   "metadata": {},
   "outputs": [
    {
     "data": {
      "image/png": "[encoded data removed]",
      "text/plain": [
       "<Figure size 1080x720 with 2 Axes>"
      ]
     },
     "metadata": {},
     "output_type": "display_data"
    }
   ],
   "source": [
    "#Heatmap\n",
    "plt.figure(figsize = ( 15 , 10 ) )\n",
    "sns.heatmap ( data.corr ( ) , cmap = \"coolwarm\" , annot = True )\n",
    "plt.show ( )"
   ]
  },
  {
   "cell_type": "markdown",
   "metadata": {},
   "source": [
    "- The highly correlated independent variables are:\n",
    "    - TB and DB\n",
    "    - SGPT and SGOT\n",
    "    - ALB and TP\n",
    "    - AGRAGR and ALB"
   ]
  },
  {
   "cell_type": "markdown",
   "metadata": {},
   "source": [
    "- There is no highly correlated independent variable with target variable."
   ]
  },
  {
   "cell_type": "markdown",
   "metadata": {},
   "source": [
    "- We can check for VIF for multicloinearity and if the features are highly correlated features and show multicolinearity, we can drop those while building the model."
   ]
  },
  {
   "cell_type": "code",
   "execution_count": 25,
   "metadata": {
    "scrolled": true
   },
   "outputs": [
    {
     "name": "stdout",
     "output_type": "stream",
     "text": [
      "Age        -0.137351\n",
      "TB         -0.220208\n",
      "DB         -0.246046\n",
      "AAP        -0.184866\n",
      "SGPT       -0.163416\n",
      "SGOT       -0.151934\n",
      "TP          0.035008\n",
      "ALB         0.161388\n",
      "AGRAGR      0.162843\n",
      "Selector    1.000000\n",
      "Name: Selector, dtype: float64\n"
     ]
    }
   ],
   "source": [
    "#Correlation w.r.t. target variable\n",
    "target = data.corr ( )\n",
    "target = target [ \"Selector\" ]\n",
    "print ( target )"
   ]
  },
  {
   "cell_type": "raw",
   "metadata": {},
   "source": [
    "#We can use unpaired t-test as we have only 2 subcategories to test the significance."
   ]
  },
  {
   "cell_type": "code",
   "execution_count": 26,
   "metadata": {},
   "outputs": [
    {
     "name": "stdout",
     "output_type": "stream",
     "text": [
      "(0.9921671152114868, 0.0036761967930942774)\n",
      "Since p < 0.05, we reject Ho. Hence, the distribution followed is not normal.\n",
      "MannwhitneyuResult(statistic=28990.5, pvalue=0.0008871841242601723)\n",
      "Since p < 0.05, we reject Ho. Hence, we can conclude that the age is insignificant.\n",
      "\n",
      "\n"
     ]
    }
   ],
   "source": [
    "# Unpaired T-test for Age with Selector\n",
    "no = data [ data [ \"Selector\" ] == 1 ] [ \"Age\" ]\n",
    "yes = data [ data [ \"Selector\" ] == 2 ] [ \"Age\" ]\n",
    "print ( shapiro ( data [ \"Age\" ] ) )\n",
    "print ( \"Since p < 0.05, we reject Ho. Hence, the distribution followed is not normal.\" )\n",
    "print ( mannwhitneyu ( no , yes ) )\n",
    "print ( \"Since p < 0.05, we reject Ho. Hence, we can conclude that the age is insignificant.\" )\n",
    "print ( \"\\n\" )"
   ]
  },
  {
   "cell_type": "code",
   "execution_count": 27,
   "metadata": {},
   "outputs": [
    {
     "name": "stdout",
     "output_type": "stream",
     "text": [
      "(0.9921671152114868, 0.0036761967930942774)\n",
      "Since p < 0.05, we reject Ho. Hence, the distribution followed is not normal.\n",
      "MannwhitneyuResult(statistic=21308.5, pvalue=1.1447594776025207e-13)\n",
      "Since p < 0.05, we reject Ho. Hence, we can conclude that the TB is insignificant.\n",
      "\n",
      "\n"
     ]
    }
   ],
   "source": [
    "# Unpaired T-test for TB with Selector\n",
    "no = data [ data [ \"Selector\" ] == 1 ] [ \"TB\" ]\n",
    "yes = data [ data [ \"Selector\" ] == 2 ] [ \"TB\" ]\n",
    "print ( shapiro ( data [ \"Age\" ] ) )\n",
    "print ( \"Since p < 0.05, we reject Ho. Hence, the distribution followed is not normal.\" )\n",
    "print ( mannwhitneyu ( no , yes ) )\n",
    "print ( \"Since p < 0.05, we reject Ho. Hence, we can conclude that the TB is insignificant.\" )\n",
    "print ( \"\\n\" )"
   ]
  },
  {
   "cell_type": "code",
   "execution_count": 28,
   "metadata": {},
   "outputs": [
    {
     "name": "stdout",
     "output_type": "stream",
     "text": [
      "(0.5295110940933228, 1.1563177719145935e-36)\n",
      "Since p < 0.05, we reject Ho. Hence, the distribution followed is not normal.\n",
      "MannwhitneyuResult(statistic=21809.0, pvalue=3.7155629439927545e-13)\n",
      "Since p < 0.05, we reject Ho. Hence, we can conclude that the DB is insignificant.\n",
      "\n",
      "\n"
     ]
    }
   ],
   "source": [
    "# Unpaired T-test for DB with Selector\n",
    "no = data [ data [ \"Selector\" ] == 1 ] [ \"DB\" ]\n",
    "yes = data [ data [ \"Selector\" ] == 2 ] [ \"DB\" ]\n",
    "print ( shapiro ( data [ \"DB\" ] ) )\n",
    "print ( \"Since p < 0.05, we reject Ho. Hence, the distribution followed is not normal.\" )\n",
    "print ( mannwhitneyu ( no , yes ) )\n",
    "print ( \"Since p < 0.05, we reject Ho. Hence, we can conclude that the DB is insignificant.\" )\n",
    "print ( \"\\n\" )"
   ]
  },
  {
   "cell_type": "code",
   "execution_count": 29,
   "metadata": {},
   "outputs": [
    {
     "name": "stdout",
     "output_type": "stream",
     "text": [
      "(0.5850894451141357, 5.21741847477215e-35)\n",
      "Since p < 0.05, we reject Ho. Hence, the distribution followed is not normal.\n",
      "MannwhitneyuResult(statistic=22615.5, pvalue=2.1736171578351033e-11)\n",
      "Since p < 0.05, we reject Ho. Hence, we can conclude that the AAP is insignificant.\n",
      "\n",
      "\n"
     ]
    }
   ],
   "source": [
    "# Unpaired T-test for AAP with Selector\n",
    "no = data [ data [ \"Selector\" ] == 1 ] [ \"AAP\" ]\n",
    "yes = data [ data [ \"Selector\" ] == 2 ] [ \"AAP\" ]\n",
    "print ( shapiro ( data [ \"AAP\" ] ) )\n",
    "print ( \"Since p < 0.05, we reject Ho. Hence, the distribution followed is not normal.\" )\n",
    "print ( mannwhitneyu ( no , yes ) )\n",
    "print ( \"Since p < 0.05, we reject Ho. Hence, we can conclude that the AAP is insignificant.\" )\n",
    "print ( \"\\n\" )"
   ]
  },
  {
   "cell_type": "code",
   "execution_count": 30,
   "metadata": {},
   "outputs": [
    {
     "name": "stdout",
     "output_type": "stream",
     "text": [
      "(0.32765698432922363, 1.402699762789142e-41)\n",
      "Since p < 0.05, we reject Ho. Hence, the distribution followed is not normal.\n",
      "MannwhitneyuResult(statistic=21843.0, pvalue=1.1664675691208342e-12)\n",
      "Since p < 0.05, we reject Ho. Hence, we can conclude that the SAlA is insignificant.\n",
      "\n",
      "\n"
     ]
    }
   ],
   "source": [
    "# Unpaired T-test for SGPT with Selector\n",
    "no = data [ data [ \"Selector\" ] == 1 ] [ \"SGPT\" ]\n",
    "yes = data [ data [ \"Selector\" ] == 2 ] [ \"SGPT\" ]\n",
    "print ( shapiro ( data [ \"SGPT\" ] ) )\n",
    "print ( \"Since p < 0.05, we reject Ho. Hence, the distribution followed is not normal.\" )\n",
    "print ( mannwhitneyu ( no , yes ) )\n",
    "print ( \"Since p < 0.05, we reject Ho. Hence, we can conclude that the SAlA is insignificant.\" )\n",
    "print ( \"\\n\" )"
   ]
  },
  {
   "cell_type": "code",
   "execution_count": 31,
   "metadata": {},
   "outputs": [
    {
     "name": "stdout",
     "output_type": "stream",
     "text": [
      "(0.2802243232727051, 1.4839750737199813e-42)\n",
      "Since p < 0.05, we reject Ho. Hence, the distribution followed is not normal.\n",
      "MannwhitneyuResult(statistic=21035.0, pvalue=4.604831224544726e-14)\n",
      "Since p < 0.05, we reject Ho. Hence, we can conclude that the TB is insignificant.\n",
      "\n",
      "\n"
     ]
    }
   ],
   "source": [
    "# Unpaired T-test for SGOT with Selector\n",
    "no = data [ data [ \"Selector\" ] == 1 ] [ \"SGOT\" ]\n",
    "yes = data [ data [ \"Selector\" ] == 2 ] [ \"SGOT\" ]\n",
    "print ( shapiro ( data [ \"SGOT\" ] ) )\n",
    "print ( \"Since p < 0.05, we reject Ho. Hence, the distribution followed is not normal.\" )\n",
    "print ( mannwhitneyu ( no , yes ) )\n",
    "print ( \"Since p < 0.05, we reject Ho. Hence, we can conclude that the TB is insignificant.\" )\n",
    "print ( \"\\n\" )"
   ]
  },
  {
   "cell_type": "code",
   "execution_count": 32,
   "metadata": {},
   "outputs": [
    {
     "name": "stdout",
     "output_type": "stream",
     "text": [
      "(0.9921777248382568, 0.003712408011779189)\n",
      "Since p < 0.05, we reject Ho. Hence, the distribution followed is not normal.\n",
      "MannwhitneyuResult(statistic=33307.5, pvalue=0.21857332379621958)\n",
      "Since p > 0.05, we reject Ho. Hence, we can conclude that the TB is significant.\n",
      "LeveneResult(statistic=0.008136328560547926, pvalue=0.928158100091441)\n",
      "Since p > 0.05, we reject Ho. Hence, we can conclude that varaince is equal among categories and the feature is significant.\n",
      "\n",
      "\n"
     ]
    }
   ],
   "source": [
    "# Unpaired T-test for TP with Selector\n",
    "no = data [ data [ \"Selector\" ] == 1 ] [ \"TP\" ]\n",
    "yes = data [ data [ \"Selector\" ] == 2 ] [ \"TP\" ]\n",
    "print ( shapiro ( data [ \"TP\" ] ) )\n",
    "print ( \"Since p < 0.05, we reject Ho. Hence, the distribution followed is not normal.\" )\n",
    "print ( mannwhitneyu ( no , yes ) )\n",
    "print ( \"Since p > 0.05, we reject Ho. Hence, we can conclude that the TB is significant.\" )\n",
    "print ( levene ( no , yes ) )\n",
    "print ( \"Since p > 0.05, we reject Ho. Hence, we can conclude that varaince is equal among categories and the feature is significant.\" )\n",
    "print ( \"\\n\" )"
   ]
  },
  {
   "cell_type": "code",
   "execution_count": 33,
   "metadata": {},
   "outputs": [
    {
     "name": "stdout",
     "output_type": "stream",
     "text": [
      "(0.992736279964447, 0.006247302517294884)\n",
      "Since p < 0.05, we reject Ho. Hence, the distribution followed is not normal.\n",
      "MannwhitneyuResult(statistic=27331.0, pvalue=2.783501983914657e-05)\n",
      "Since p < 0.05, we reject Ho. Hence, we can conclude that the TB is insignificant.\n",
      "\n",
      "\n"
     ]
    }
   ],
   "source": [
    "# Unpaired T-test for ALB with Selector\n",
    "no = data [ data [ \"Selector\" ] == 1 ] [ \"ALB\" ]\n",
    "yes = data [ data [ \"Selector\" ] == 2 ] [ \"ALB\" ]\n",
    "print ( shapiro ( data [ \"ALB\" ] ) )\n",
    "print ( \"Since p < 0.05, we reject Ho. Hence, the distribution followed is not normal.\" )\n",
    "print ( mannwhitneyu ( no , yes ) )\n",
    "print ( \"Since p < 0.05, we reject Ho. Hence, we can conclude that the TB is insignificant.\" )\n",
    "print ( \"\\n\" )"
   ]
  },
  {
   "cell_type": "code",
   "execution_count": 34,
   "metadata": {},
   "outputs": [
    {
     "name": "stdout",
     "output_type": "stream",
     "text": [
      "(0.9460574984550476, 9.858125871609752e-14)\n",
      "Since p < 0.05, we reject Ho. Hence, the distribution followed is not normal.\n",
      "MannwhitneyuResult(statistic=26419.0, pvalue=2.707911073702188e-06)\n",
      "Since p < 0.05, we reject Ho. Hence, we can conclude that the TB is insignificant.\n",
      "\n",
      "\n"
     ]
    }
   ],
   "source": [
    "# Unpaired T-test for AGAGR with Selector\n",
    "no = data [ data [ \"Selector\" ] == 1 ] [ \"AGRAGR\" ]\n",
    "yes = data [ data [ \"Selector\" ] == 2 ] [ \"AGRAGR\" ]\n",
    "print ( shapiro ( data [ \"AGRAGR\" ] ) )\n",
    "print ( \"Since p < 0.05, we reject Ho. Hence, the distribution followed is not normal.\" )\n",
    "print ( mannwhitneyu ( no , yes ) )\n",
    "print ( \"Since p < 0.05, we reject Ho. Hence, we can conclude that the TB is insignificant.\" )\n",
    "print ( \"\\n\" )"
   ]
  },
  {
   "cell_type": "code",
   "execution_count": 35,
   "metadata": {},
   "outputs": [],
   "source": [
    "#We can use chisquare test of independence."
   ]
  },
  {
   "cell_type": "code",
   "execution_count": 36,
   "metadata": {
    "scrolled": false
   },
   "outputs": [
    {
     "name": "stdout",
     "output_type": "stream",
     "text": [
      "Selector    1    2\n",
      "Gender            \n",
      "Female     92   50\n",
      "Male      324  117\n",
      "(3.5466486106706046, 0.059665846857774464, 1, array([[101.32418525,  40.67581475],\n",
      "       [314.67581475, 126.32418525]]))\n",
      "Since p > 0.05, we reject Ho. Hence, we can conclude that the variance of Gender with tagret Variable is significant.\n"
     ]
    }
   ],
   "source": [
    "# Chisquare contigency for Gender and Selector\n",
    "data [ \"Selector\" ] = data [ \"Selector\" ].astype ( int )\n",
    "cross = pd.crosstab ( data [ \"Gender\" ] , data [ \"Selector\" ] )\n",
    "print ( cross )\n",
    "print ( chi2_contingency ( cross ) )\n",
    "print ( \"Since p > 0.05, we reject Ho. Hence, we can conclude that the variance of Gender with tagret Variable is significant.\" )"
   ]
  },
  {
   "cell_type": "markdown",
   "metadata": {},
   "source": [
    "#### Splitting the dataset:"
   ]
  },
  {
   "cell_type": "code",
   "execution_count": 37,
   "metadata": {},
   "outputs": [],
   "source": [
    "data [ \"Selector\" ] = data [ \"Selector\" ].astype ( int ) \n",
    "data [ \"Selector\" ] = data [ \"Selector\" ].apply ( lambda x : 1 if x == 2 else 0 )"
   ]
  },
  {
   "cell_type": "code",
   "execution_count": 38,
   "metadata": {},
   "outputs": [],
   "source": [
    "X = data.drop ( \"Selector\" , axis = 1 )\n",
    "y = data [ \"Selector\" ]"
   ]
  },
  {
   "cell_type": "code",
   "execution_count": 39,
   "metadata": {},
   "outputs": [],
   "source": [
    "columns = [ \"Age\" , \"TB\" , \"DB\" , \"AAP\" ,\"SGPT\" , \"SGOT\" , \"TP\" , \"ALB\" , \"AGRAGR\" ]\n",
    "for i in columns:\n",
    "    ss = StandardScaler ( )\n",
    "    X [ i ] = ss.fit_transform ( X [ i ].values.reshape ( -1 , 1 ) )"
   ]
  },
  {
   "cell_type": "code",
   "execution_count": 40,
   "metadata": {
    "scrolled": false
   },
   "outputs": [
    {
     "data": {
      "text/html": [
       "<div>\n",
       "<style scoped>\n",
       "    .dataframe tbody tr th:only-of-type {\n",
       "        vertical-align: middle;\n",
       "    }\n",
       "\n",
       "    .dataframe tbody tr th {\n",
       "        vertical-align: top;\n",
       "    }\n",
       "\n",
       "    .dataframe thead th {\n",
       "        text-align: right;\n",
       "    }\n",
       "</style>\n",
       "<table border=\"1\" class=\"dataframe\">\n",
       "  <thead>\n",
       "    <tr style=\"text-align: right;\">\n",
       "      <th></th>\n",
       "      <th>Age</th>\n",
       "      <th>TB</th>\n",
       "      <th>DB</th>\n",
       "      <th>AAP</th>\n",
       "      <th>SGPT</th>\n",
       "      <th>SGOT</th>\n",
       "      <th>TP</th>\n",
       "      <th>ALB</th>\n",
       "      <th>AGRAGR</th>\n",
       "      <th>Gender_Male</th>\n",
       "    </tr>\n",
       "  </thead>\n",
       "  <tbody>\n",
       "    <tr>\n",
       "      <th>0</th>\n",
       "      <td>1.252098</td>\n",
       "      <td>-0.418878</td>\n",
       "      <td>-0.493964</td>\n",
       "      <td>-0.426715</td>\n",
       "      <td>-0.354665</td>\n",
       "      <td>-0.318393</td>\n",
       "      <td>0.292120</td>\n",
       "      <td>0.198969</td>\n",
       "      <td>-0.149025</td>\n",
       "      <td>0</td>\n",
       "    </tr>\n",
       "    <tr>\n",
       "      <th>1</th>\n",
       "      <td>1.066637</td>\n",
       "      <td>1.225171</td>\n",
       "      <td>1.430423</td>\n",
       "      <td>1.682629</td>\n",
       "      <td>-0.091599</td>\n",
       "      <td>-0.034333</td>\n",
       "      <td>0.937566</td>\n",
       "      <td>0.073157</td>\n",
       "      <td>-0.651777</td>\n",
       "      <td>1</td>\n",
       "    </tr>\n",
       "    <tr>\n",
       "      <th>2</th>\n",
       "      <td>1.066637</td>\n",
       "      <td>0.644919</td>\n",
       "      <td>0.931508</td>\n",
       "      <td>0.821588</td>\n",
       "      <td>-0.113522</td>\n",
       "      <td>-0.145186</td>\n",
       "      <td>0.476533</td>\n",
       "      <td>0.198969</td>\n",
       "      <td>-0.180447</td>\n",
       "      <td>1</td>\n",
       "    </tr>\n",
       "    <tr>\n",
       "      <th>3</th>\n",
       "      <td>0.819356</td>\n",
       "      <td>-0.370523</td>\n",
       "      <td>-0.387054</td>\n",
       "      <td>-0.447314</td>\n",
       "      <td>-0.365626</td>\n",
       "      <td>-0.311465</td>\n",
       "      <td>0.292120</td>\n",
       "      <td>0.324781</td>\n",
       "      <td>0.165194</td>\n",
       "      <td>1</td>\n",
       "    </tr>\n",
       "    <tr>\n",
       "      <th>4</th>\n",
       "      <td>1.684839</td>\n",
       "      <td>0.096902</td>\n",
       "      <td>0.183135</td>\n",
       "      <td>-0.393756</td>\n",
       "      <td>-0.294379</td>\n",
       "      <td>-0.176363</td>\n",
       "      <td>0.753153</td>\n",
       "      <td>-0.933340</td>\n",
       "      <td>-1.720124</td>\n",
       "      <td>1</td>\n",
       "    </tr>\n",
       "  </tbody>\n",
       "</table>\n",
       "</div>"
      ],
      "text/plain": [
       "        Age        TB        DB       AAP      SGPT      SGOT        TP  \\\n",
       "0  1.252098 -0.418878 -0.493964 -0.426715 -0.354665 -0.318393  0.292120   \n",
       "1  1.066637  1.225171  1.430423  1.682629 -0.091599 -0.034333  0.937566   \n",
       "2  1.066637  0.644919  0.931508  0.821588 -0.113522 -0.145186  0.476533   \n",
       "3  0.819356 -0.370523 -0.387054 -0.447314 -0.365626 -0.311465  0.292120   \n",
       "4  1.684839  0.096902  0.183135 -0.393756 -0.294379 -0.176363  0.753153   \n",
       "\n",
       "        ALB    AGRAGR  Gender_Male  \n",
       "0  0.198969 -0.149025            0  \n",
       "1  0.073157 -0.651777            1  \n",
       "2  0.198969 -0.180447            1  \n",
       "3  0.324781  0.165194            1  \n",
       "4 -0.933340 -1.720124            1  "
      ]
     },
     "execution_count": 40,
     "metadata": {},
     "output_type": "execute_result"
    }
   ],
   "source": [
    "X = pd.get_dummies ( data = X , columns = [ \"Gender\" ] , drop_first = True )\n",
    "X.head ( )"
   ]
  },
  {
   "cell_type": "code",
   "execution_count": 41,
   "metadata": {},
   "outputs": [
    {
     "data": {
      "text/html": [
       "<div>\n",
       "<style scoped>\n",
       "    .dataframe tbody tr th:only-of-type {\n",
       "        vertical-align: middle;\n",
       "    }\n",
       "\n",
       "    .dataframe tbody tr th {\n",
       "        vertical-align: top;\n",
       "    }\n",
       "\n",
       "    .dataframe thead th {\n",
       "        text-align: right;\n",
       "    }\n",
       "</style>\n",
       "<table border=\"1\" class=\"dataframe\">\n",
       "  <thead>\n",
       "    <tr style=\"text-align: right;\">\n",
       "      <th></th>\n",
       "      <th>count</th>\n",
       "      <th>mean</th>\n",
       "      <th>std</th>\n",
       "      <th>min</th>\n",
       "      <th>25%</th>\n",
       "      <th>50%</th>\n",
       "      <th>75%</th>\n",
       "      <th>max</th>\n",
       "    </tr>\n",
       "  </thead>\n",
       "  <tbody>\n",
       "    <tr>\n",
       "      <th>Age</th>\n",
       "      <td>583.0</td>\n",
       "      <td>6.741320e-17</td>\n",
       "      <td>1.000859</td>\n",
       "      <td>-2.518935</td>\n",
       "      <td>-0.726149</td>\n",
       "      <td>0.015694</td>\n",
       "      <td>0.819356</td>\n",
       "      <td>2.797603</td>\n",
       "    </tr>\n",
       "    <tr>\n",
       "      <th>TB</th>\n",
       "      <td>583.0</td>\n",
       "      <td>1.571070e-16</td>\n",
       "      <td>1.000859</td>\n",
       "      <td>-0.467232</td>\n",
       "      <td>-0.402760</td>\n",
       "      <td>-0.370523</td>\n",
       "      <td>-0.112633</td>\n",
       "      <td>11.556892</td>\n",
       "    </tr>\n",
       "    <tr>\n",
       "      <th>DB</th>\n",
       "      <td>583.0</td>\n",
       "      <td>1.437767e-16</td>\n",
       "      <td>1.000859</td>\n",
       "      <td>-0.493964</td>\n",
       "      <td>-0.458327</td>\n",
       "      <td>-0.422690</td>\n",
       "      <td>-0.066322</td>\n",
       "      <td>6.490849</td>\n",
       "    </tr>\n",
       "    <tr>\n",
       "      <th>AAP</th>\n",
       "      <td>583.0</td>\n",
       "      <td>-8.379042e-17</td>\n",
       "      <td>1.000859</td>\n",
       "      <td>-0.937572</td>\n",
       "      <td>-0.474093</td>\n",
       "      <td>-0.340199</td>\n",
       "      <td>0.030584</td>\n",
       "      <td>7.495683</td>\n",
       "    </tr>\n",
       "    <tr>\n",
       "      <th>SGPT</th>\n",
       "      <td>583.0</td>\n",
       "      <td>-3.941958e-17</td>\n",
       "      <td>1.000859</td>\n",
       "      <td>-0.387549</td>\n",
       "      <td>-0.316302</td>\n",
       "      <td>-0.250535</td>\n",
       "      <td>-0.110781</td>\n",
       "      <td>10.518732</td>\n",
       "    </tr>\n",
       "    <tr>\n",
       "      <th>SGOT</th>\n",
       "      <td>583.0</td>\n",
       "      <td>1.047380e-17</td>\n",
       "      <td>1.000859</td>\n",
       "      <td>-0.346107</td>\n",
       "      <td>-0.294144</td>\n",
       "      <td>-0.235254</td>\n",
       "      <td>-0.079367</td>\n",
       "      <td>16.694075</td>\n",
       "    </tr>\n",
       "    <tr>\n",
       "      <th>TP</th>\n",
       "      <td>583.0</td>\n",
       "      <td>7.603980e-16</td>\n",
       "      <td>1.000859</td>\n",
       "      <td>-3.488354</td>\n",
       "      <td>-0.629947</td>\n",
       "      <td>0.107706</td>\n",
       "      <td>0.660946</td>\n",
       "      <td>2.873907</td>\n",
       "    </tr>\n",
       "    <tr>\n",
       "      <th>ALB</th>\n",
       "      <td>583.0</td>\n",
       "      <td>2.787936e-16</td>\n",
       "      <td>1.000859</td>\n",
       "      <td>-2.820521</td>\n",
       "      <td>-0.681716</td>\n",
       "      <td>-0.052655</td>\n",
       "      <td>0.828029</td>\n",
       "      <td>2.966834</td>\n",
       "    </tr>\n",
       "    <tr>\n",
       "      <th>AGRAGR</th>\n",
       "      <td>583.0</td>\n",
       "      <td>4.730350e-16</td>\n",
       "      <td>1.000859</td>\n",
       "      <td>-2.034343</td>\n",
       "      <td>-0.777465</td>\n",
       "      <td>0.008085</td>\n",
       "      <td>0.479414</td>\n",
       "      <td>5.821148</td>\n",
       "    </tr>\n",
       "    <tr>\n",
       "      <th>Gender_Male</th>\n",
       "      <td>583.0</td>\n",
       "      <td>7.564322e-01</td>\n",
       "      <td>0.429603</td>\n",
       "      <td>0.000000</td>\n",
       "      <td>1.000000</td>\n",
       "      <td>1.000000</td>\n",
       "      <td>1.000000</td>\n",
       "      <td>1.000000</td>\n",
       "    </tr>\n",
       "  </tbody>\n",
       "</table>\n",
       "</div>"
      ],
      "text/plain": [
       "             count          mean       std       min       25%       50%  \\\n",
       "Age          583.0  6.741320e-17  1.000859 -2.518935 -0.726149  0.015694   \n",
       "TB           583.0  1.571070e-16  1.000859 -0.467232 -0.402760 -0.370523   \n",
       "DB           583.0  1.437767e-16  1.000859 -0.493964 -0.458327 -0.422690   \n",
       "AAP          583.0 -8.379042e-17  1.000859 -0.937572 -0.474093 -0.340199   \n",
       "SGPT         583.0 -3.941958e-17  1.000859 -0.387549 -0.316302 -0.250535   \n",
       "SGOT         583.0  1.047380e-17  1.000859 -0.346107 -0.294144 -0.235254   \n",
       "TP           583.0  7.603980e-16  1.000859 -3.488354 -0.629947  0.107706   \n",
       "ALB          583.0  2.787936e-16  1.000859 -2.820521 -0.681716 -0.052655   \n",
       "AGRAGR       583.0  4.730350e-16  1.000859 -2.034343 -0.777465  0.008085   \n",
       "Gender_Male  583.0  7.564322e-01  0.429603  0.000000  1.000000  1.000000   \n",
       "\n",
       "                  75%        max  \n",
       "Age          0.819356   2.797603  \n",
       "TB          -0.112633  11.556892  \n",
       "DB          -0.066322   6.490849  \n",
       "AAP          0.030584   7.495683  \n",
       "SGPT        -0.110781  10.518732  \n",
       "SGOT        -0.079367  16.694075  \n",
       "TP           0.660946   2.873907  \n",
       "ALB          0.828029   2.966834  \n",
       "AGRAGR       0.479414   5.821148  \n",
       "Gender_Male  1.000000   1.000000  "
      ]
     },
     "execution_count": 41,
     "metadata": {},
     "output_type": "execute_result"
    }
   ],
   "source": [
    "X.describe().T"
   ]
  },
  {
   "cell_type": "code",
   "execution_count": 42,
   "metadata": {},
   "outputs": [],
   "source": [
    "X_train , X_test , y_train , y_test = train_test_split ( X , y , test_size = 0.3 , random_state = 1 ) "
   ]
  },
  {
   "cell_type": "markdown",
   "metadata": {},
   "source": [
    "- We use chisquare goodness of fit to check the ascertainity.\n",
    "- Hyphothesis:\n",
    "    - Ha: There is a significant variation in two categories of Selector.\n",
    "    - Ho: There is no significant variation in two categories of Selector."
   ]
  },
  {
   "cell_type": "code",
   "execution_count": 43,
   "metadata": {},
   "outputs": [
    {
     "data": {
      "text/plain": [
       "Power_divergenceResult(statistic=215.59005145797596, pvalue=1.5318461495995856e-47)"
      ]
     },
     "execution_count": 43,
     "metadata": {},
     "output_type": "execute_result"
    }
   ],
   "source": [
    "chisquare ( [ len ( y ) , len ( y_train ) , len ( y_test ) ] )"
   ]
  },
  {
   "cell_type": "markdown",
   "metadata": {},
   "source": [
    "Since p-value < 0.05, we reject Ho and conclude that the split is good representation of the population."
   ]
  },
  {
   "cell_type": "markdown",
   "metadata": {},
   "source": [
    "#### Fitting a base model:"
   ]
  },
  {
   "cell_type": "code",
   "execution_count": 44,
   "metadata": {},
   "outputs": [
    {
     "name": "stdout",
     "output_type": "stream",
     "text": [
      "Optimization terminated successfully.\n",
      "         Current function value: 0.491239\n",
      "         Iterations 9\n"
     ]
    },
    {
     "data": {
      "text/html": [
       "<table class=\"simpletable\">\n",
       "<caption>Logit Regression Results</caption>\n",
       "<tr>\n",
       "  <th>Dep. Variable:</th>       <td>Selector</td>     <th>  No. Observations:  </th>  <td>   583</td>  \n",
       "</tr>\n",
       "<tr>\n",
       "  <th>Model:</th>                 <td>Logit</td>      <th>  Df Residuals:      </th>  <td>   572</td>  \n",
       "</tr>\n",
       "<tr>\n",
       "  <th>Method:</th>                 <td>MLE</td>       <th>  Df Model:          </th>  <td>    10</td>  \n",
       "</tr>\n",
       "<tr>\n",
       "  <th>Date:</th>            <td>Tue, 18 Feb 2020</td> <th>  Pseudo R-squ.:     </th>  <td>0.1798</td>  \n",
       "</tr>\n",
       "<tr>\n",
       "  <th>Time:</th>                <td>16:49:16</td>     <th>  Log-Likelihood:    </th> <td> -286.39</td> \n",
       "</tr>\n",
       "<tr>\n",
       "  <th>converged:</th>             <td>True</td>       <th>  LL-Null:           </th> <td> -349.18</td> \n",
       "</tr>\n",
       "<tr>\n",
       "  <th>Covariance Type:</th>     <td>nonrobust</td>    <th>  LLR p-value:       </th> <td>3.714e-22</td>\n",
       "</tr>\n",
       "</table>\n",
       "<table class=\"simpletable\">\n",
       "<tr>\n",
       "       <td></td>          <th>coef</th>     <th>std err</th>      <th>z</th>      <th>P>|z|</th>  <th>[0.025</th>    <th>0.975]</th>  \n",
       "</tr>\n",
       "<tr>\n",
       "  <th>const</th>       <td>   -1.9297</td> <td>    0.322</td> <td>   -5.985</td> <td> 0.000</td> <td>   -2.562</td> <td>   -1.298</td>\n",
       "</tr>\n",
       "<tr>\n",
       "  <th>Age</th>         <td>   -0.3044</td> <td>    0.103</td> <td>   -2.951</td> <td> 0.003</td> <td>   -0.507</td> <td>   -0.102</td>\n",
       "</tr>\n",
       "<tr>\n",
       "  <th>TB</th>          <td>   -0.0746</td> <td>    0.551</td> <td>   -0.135</td> <td> 0.892</td> <td>   -1.154</td> <td>    1.005</td>\n",
       "</tr>\n",
       "<tr>\n",
       "  <th>DB</th>          <td>   -1.2487</td> <td>    0.681</td> <td>   -1.834</td> <td> 0.067</td> <td>   -2.583</td> <td>    0.086</td>\n",
       "</tr>\n",
       "<tr>\n",
       "  <th>AAP</th>         <td>   -0.3140</td> <td>    0.197</td> <td>   -1.594</td> <td> 0.111</td> <td>   -0.700</td> <td>    0.072</td>\n",
       "</tr>\n",
       "<tr>\n",
       "  <th>SGPT</th>        <td>   -2.1679</td> <td>    0.927</td> <td>   -2.338</td> <td> 0.019</td> <td>   -3.985</td> <td>   -0.351</td>\n",
       "</tr>\n",
       "<tr>\n",
       "  <th>SGOT</th>        <td>   -0.7313</td> <td>    0.901</td> <td>   -0.811</td> <td> 0.417</td> <td>   -2.498</td> <td>    1.035</td>\n",
       "</tr>\n",
       "<tr>\n",
       "  <th>TP</th>          <td>   -0.9740</td> <td>    0.397</td> <td>   -2.451</td> <td> 0.014</td> <td>   -1.753</td> <td>   -0.195</td>\n",
       "</tr>\n",
       "<tr>\n",
       "  <th>ALB</th>         <td>    1.3002</td> <td>    0.567</td> <td>    2.292</td> <td> 0.022</td> <td>    0.188</td> <td>    2.412</td>\n",
       "</tr>\n",
       "<tr>\n",
       "  <th>AGRAGR</th>      <td>   -0.5504</td> <td>    0.347</td> <td>   -1.584</td> <td> 0.113</td> <td>   -1.231</td> <td>    0.130</td>\n",
       "</tr>\n",
       "<tr>\n",
       "  <th>Gender_Male</th> <td>   -0.0214</td> <td>    0.231</td> <td>   -0.093</td> <td> 0.926</td> <td>   -0.475</td> <td>    0.432</td>\n",
       "</tr>\n",
       "</table>"
      ],
      "text/plain": [
       "<class 'statsmodels.iolib.summary.Summary'>\n",
       "\"\"\"\n",
       "                           Logit Regression Results                           \n",
       "==============================================================================\n",
       "Dep. Variable:               Selector   No. Observations:                  583\n",
       "Model:                          Logit   Df Residuals:                      572\n",
       "Method:                           MLE   Df Model:                           10\n",
       "Date:                Tue, 18 Feb 2020   Pseudo R-squ.:                  0.1798\n",
       "Time:                        16:49:16   Log-Likelihood:                -286.39\n",
       "converged:                       True   LL-Null:                       -349.18\n",
       "Covariance Type:            nonrobust   LLR p-value:                 3.714e-22\n",
       "===============================================================================\n",
       "                  coef    std err          z      P>|z|      [0.025      0.975]\n",
       "-------------------------------------------------------------------------------\n",
       "const          -1.9297      0.322     -5.985      0.000      -2.562      -1.298\n",
       "Age            -0.3044      0.103     -2.951      0.003      -0.507      -0.102\n",
       "TB             -0.0746      0.551     -0.135      0.892      -1.154       1.005\n",
       "DB             -1.2487      0.681     -1.834      0.067      -2.583       0.086\n",
       "AAP            -0.3140      0.197     -1.594      0.111      -0.700       0.072\n",
       "SGPT           -2.1679      0.927     -2.338      0.019      -3.985      -0.351\n",
       "SGOT           -0.7313      0.901     -0.811      0.417      -2.498       1.035\n",
       "TP             -0.9740      0.397     -2.451      0.014      -1.753      -0.195\n",
       "ALB             1.3002      0.567      2.292      0.022       0.188       2.412\n",
       "AGRAGR         -0.5504      0.347     -1.584      0.113      -1.231       0.130\n",
       "Gender_Male    -0.0214      0.231     -0.093      0.926      -0.475       0.432\n",
       "===============================================================================\n",
       "\"\"\""
      ]
     },
     "execution_count": 44,
     "metadata": {},
     "output_type": "execute_result"
    }
   ],
   "source": [
    "x_con = sm .add_constant(X)\n",
    "\n",
    "model = sm.Logit(y, x_con)\n",
    "result = model.fit()\n",
    "result.summary()"
   ]
  },
  {
   "cell_type": "code",
   "execution_count": 45,
   "metadata": {},
   "outputs": [],
   "source": [
    "y_pred = result.predict(x_con)\n",
    "y_pred = y_pred.apply ( lambda x : 1 if x > 0.5 else 0 )"
   ]
  },
  {
   "cell_type": "code",
   "execution_count": 46,
   "metadata": {},
   "outputs": [
    {
     "name": "stdout",
     "output_type": "stream",
     "text": [
      "Confussion matrix:  \n",
      " [[385  31]\n",
      " [121  46]]\n"
     ]
    }
   ],
   "source": [
    "print('Confussion matrix: ','\\n',confusion_matrix(y,y_pred))"
   ]
  },
  {
   "cell_type": "code",
   "execution_count": 47,
   "metadata": {},
   "outputs": [
    {
     "data": {
      "text/html": [
       "<div>\n",
       "<style scoped>\n",
       "    .dataframe tbody tr th:only-of-type {\n",
       "        vertical-align: middle;\n",
       "    }\n",
       "\n",
       "    .dataframe tbody tr th {\n",
       "        vertical-align: top;\n",
       "    }\n",
       "\n",
       "    .dataframe thead th {\n",
       "        text-align: right;\n",
       "    }\n",
       "</style>\n",
       "<table border=\"1\" class=\"dataframe\">\n",
       "  <thead>\n",
       "    <tr style=\"text-align: right;\">\n",
       "      <th></th>\n",
       "      <th>CI 95% (2.5%)</th>\n",
       "      <th>CI 95% (97.5%)</th>\n",
       "      <th>Odds Ratio</th>\n",
       "      <th>pvalue</th>\n",
       "    </tr>\n",
       "  </thead>\n",
       "  <tbody>\n",
       "    <tr>\n",
       "      <th>const</th>\n",
       "      <td>0.077172</td>\n",
       "      <td>0.273142</td>\n",
       "      <td>0.145186</td>\n",
       "      <td>0.000</td>\n",
       "    </tr>\n",
       "    <tr>\n",
       "      <th>Age</th>\n",
       "      <td>0.602580</td>\n",
       "      <td>0.902811</td>\n",
       "      <td>0.737575</td>\n",
       "      <td>0.003</td>\n",
       "    </tr>\n",
       "    <tr>\n",
       "      <th>TB</th>\n",
       "      <td>0.315467</td>\n",
       "      <td>2.730748</td>\n",
       "      <td>0.928149</td>\n",
       "      <td>0.892</td>\n",
       "    </tr>\n",
       "    <tr>\n",
       "      <th>DB</th>\n",
       "      <td>0.075555</td>\n",
       "      <td>1.089320</td>\n",
       "      <td>0.286885</td>\n",
       "      <td>0.067</td>\n",
       "    </tr>\n",
       "    <tr>\n",
       "      <th>AAP</th>\n",
       "      <td>0.496581</td>\n",
       "      <td>1.074744</td>\n",
       "      <td>0.730546</td>\n",
       "      <td>0.111</td>\n",
       "    </tr>\n",
       "    <tr>\n",
       "      <th>SGPT</th>\n",
       "      <td>0.018587</td>\n",
       "      <td>0.704316</td>\n",
       "      <td>0.114416</td>\n",
       "      <td>0.019</td>\n",
       "    </tr>\n",
       "    <tr>\n",
       "      <th>SGOT</th>\n",
       "      <td>0.082238</td>\n",
       "      <td>2.816401</td>\n",
       "      <td>0.481264</td>\n",
       "      <td>0.417</td>\n",
       "    </tr>\n",
       "    <tr>\n",
       "      <th>TP</th>\n",
       "      <td>0.173274</td>\n",
       "      <td>0.822736</td>\n",
       "      <td>0.377569</td>\n",
       "      <td>0.014</td>\n",
       "    </tr>\n",
       "    <tr>\n",
       "      <th>ALB</th>\n",
       "      <td>1.207088</td>\n",
       "      <td>11.158385</td>\n",
       "      <td>3.670035</td>\n",
       "      <td>0.022</td>\n",
       "    </tr>\n",
       "    <tr>\n",
       "      <th>AGRAGR</th>\n",
       "      <td>0.291932</td>\n",
       "      <td>1.139320</td>\n",
       "      <td>0.576718</td>\n",
       "      <td>0.113</td>\n",
       "    </tr>\n",
       "    <tr>\n",
       "      <th>Gender_Male</th>\n",
       "      <td>0.621832</td>\n",
       "      <td>1.540651</td>\n",
       "      <td>0.978788</td>\n",
       "      <td>0.926</td>\n",
       "    </tr>\n",
       "  </tbody>\n",
       "</table>\n",
       "</div>"
      ],
      "text/plain": [
       "             CI 95% (2.5%)  CI 95% (97.5%)  Odds Ratio  pvalue\n",
       "const             0.077172        0.273142    0.145186   0.000\n",
       "Age               0.602580        0.902811    0.737575   0.003\n",
       "TB                0.315467        2.730748    0.928149   0.892\n",
       "DB                0.075555        1.089320    0.286885   0.067\n",
       "AAP               0.496581        1.074744    0.730546   0.111\n",
       "SGPT              0.018587        0.704316    0.114416   0.019\n",
       "SGOT              0.082238        2.816401    0.481264   0.417\n",
       "TP                0.173274        0.822736    0.377569   0.014\n",
       "ALB               1.207088       11.158385    3.670035   0.022\n",
       "AGRAGR            0.291932        1.139320    0.576718   0.113\n",
       "Gender_Male       0.621832        1.540651    0.978788   0.926"
      ]
     },
     "execution_count": 47,
     "metadata": {},
     "output_type": "execute_result"
    }
   ],
   "source": [
    "conf = np.exp ( result.conf_int ( ) )\n",
    "params = np.exp ( result.params )\n",
    "conf [ \"Odds\" ] = params\n",
    "conf [ \"pvalue\" ] = round ( result.pvalues , 3 )\n",
    "conf.columns = [ 'CI 95% (2.5%)' , 'CI 95% (97.5%)', 'Odds Ratio' , 'pvalue' ]\n",
    "conf"
   ]
  },
  {
   "cell_type": "code",
   "execution_count": 48,
   "metadata": {},
   "outputs": [
    {
     "name": "stdout",
     "output_type": "stream",
     "text": [
      "Accuracy score of test data: 0.7371428571428571\n",
      "Accuracy score of train data: 0.7450980392156863\n"
     ]
    }
   ],
   "source": [
    "#Fitting the base model using ML:\n",
    "lr = LogisticRegression ( )\n",
    "lr.fit ( X_train , y_train )\n",
    "test_lr_pred = lr.predict ( X_test )\n",
    "train_lr_pred = lr.predict ( X_train )\n",
    "print ( \"Accuracy score of test data:\" , accuracy_score ( y_test , test_lr_pred ) )\n",
    "print ( \"Accuracy score of train data:\" , accuracy_score ( y_train , train_lr_pred ) )\n",
    "accuracy_score_Logit = accuracy_score ( y_train , train_lr_pred )"
   ]
  },
  {
   "cell_type": "markdown",
   "metadata": {},
   "source": [
    "- The accuracy of the model looks good.\n",
    "- To improve more we can use another model and can try hyper parameter tuning."
   ]
  },
  {
   "cell_type": "code",
   "execution_count": 49,
   "metadata": {},
   "outputs": [
    {
     "name": "stdout",
     "output_type": "stream",
     "text": [
      "\n",
      "Classification Report of test data:\n",
      "               precision    recall  f1-score   support\n",
      "\n",
      "           0       0.75      0.94      0.84       125\n",
      "           1       0.60      0.24      0.34        50\n",
      "\n",
      "    accuracy                           0.74       175\n",
      "   macro avg       0.68      0.59      0.59       175\n",
      "weighted avg       0.71      0.74      0.69       175\n",
      "\n",
      "\n",
      "Classification Report of train data:\n",
      "               precision    recall  f1-score   support\n",
      "\n",
      "           0       0.76      0.94      0.84       291\n",
      "           1       0.64      0.26      0.37       117\n",
      "\n",
      "    accuracy                           0.75       408\n",
      "   macro avg       0.70      0.60      0.60       408\n",
      "weighted avg       0.72      0.75      0.70       408\n",
      "\n"
     ]
    }
   ],
   "source": [
    "print ( \"\\nClassification Report of test data:\\n\" , classification_report ( y_test , test_lr_pred ) )\n",
    "print ( \"\\nClassification Report of train data:\\n\" , classification_report ( y_train , train_lr_pred ) )"
   ]
  },
  {
   "cell_type": "markdown",
   "metadata": {},
   "source": [
    "- We can work of improving the recall."
   ]
  },
  {
   "cell_type": "code",
   "execution_count": 50,
   "metadata": {},
   "outputs": [
    {
     "name": "stdout",
     "output_type": "stream",
     "text": [
      "Optimization terminated successfully.\n",
      "         Current function value: 0.491239\n",
      "         Iterations 9\n",
      "Variable removed:  Gender_Male 0.9261954451367974\n",
      "\n",
      "\n",
      "Optimization terminated successfully.\n",
      "         Current function value: 0.491246\n",
      "         Iterations 9\n",
      "Variable removed:  TB 0.8921407703430528\n",
      "\n",
      "\n",
      "Optimization terminated successfully.\n",
      "         Current function value: 0.491267\n",
      "         Iterations 9\n",
      "Variable removed:  SGOT 0.4161352677640058\n",
      "\n",
      "\n",
      "Optimization terminated successfully.\n",
      "         Current function value: 0.491892\n",
      "         Iterations 9\n",
      "Variable removed:  AAP 0.1080523219172638\n",
      "\n",
      "\n",
      "Optimization terminated successfully.\n",
      "         Current function value: 0.494721\n",
      "         Iterations 9\n",
      "Variable removed:  AGRAGR 0.12264976596660256\n",
      "\n",
      "\n",
      "Optimization terminated successfully.\n",
      "         Current function value: 0.496963\n",
      "         Iterations 9\n",
      "Therefore the significant features are:  ['Age', 'DB', 'SGPT', 'TP', 'ALB']\n"
     ]
    }
   ],
   "source": [
    "# Backward elimination to drop insignificant variables one by one\n",
    "cols = list(x_con.columns)\n",
    "p= []\n",
    "while (len(cols)>0):\n",
    "    X = x_con[cols]\n",
    "    model = sm.Logit(y, X).fit().pvalues\n",
    "    p = pd.Series(model.values[1:],index = X.columns[1:])      \n",
    "    pmax = max(p)\n",
    "    pid = p.idxmax()\n",
    "    if(pmax>0.05):\n",
    "        cols.remove(pid)\n",
    "        print('Variable removed: ',pid,pmax)\n",
    "        print('\\n')\n",
    "    else:\n",
    "        break\n",
    "print('Therefore the significant features are: ', cols[1:6])"
   ]
  },
  {
   "cell_type": "code",
   "execution_count": 51,
   "metadata": {},
   "outputs": [
    {
     "data": {
      "text/plain": [
       "0.21463414634146338"
      ]
     },
     "execution_count": 51,
     "metadata": {},
     "output_type": "execute_result"
    }
   ],
   "source": [
    "cohen_kappa_score ( y_test , test_lr_pred ) "
   ]
  },
  {
   "cell_type": "markdown",
   "metadata": {},
   "source": [
    "- Since cohen_kappa_value is between 0.2 - 0.4, that means the inter-rater reliability for qualitative items and also Intra-rater reliability for categorical items seems to be fair."
   ]
  },
  {
   "cell_type": "code",
   "execution_count": 52,
   "metadata": {},
   "outputs": [
    {
     "data": {
      "text/html": [
       "<div>\n",
       "<style scoped>\n",
       "    .dataframe tbody tr th:only-of-type {\n",
       "        vertical-align: middle;\n",
       "    }\n",
       "\n",
       "    .dataframe tbody tr th {\n",
       "        vertical-align: top;\n",
       "    }\n",
       "\n",
       "    .dataframe thead th {\n",
       "        text-align: right;\n",
       "    }\n",
       "</style>\n",
       "<table border=\"1\" class=\"dataframe\">\n",
       "  <thead>\n",
       "    <tr style=\"text-align: right;\">\n",
       "      <th></th>\n",
       "      <th>Predicted: 0</th>\n",
       "      <th>Predicted: 1</th>\n",
       "    </tr>\n",
       "  </thead>\n",
       "  <tbody>\n",
       "    <tr>\n",
       "      <th>Observed: 0</th>\n",
       "      <td>117</td>\n",
       "      <td>8</td>\n",
       "    </tr>\n",
       "    <tr>\n",
       "      <th>Observed: 1</th>\n",
       "      <td>38</td>\n",
       "      <td>12</td>\n",
       "    </tr>\n",
       "  </tbody>\n",
       "</table>\n",
       "</div>"
      ],
      "text/plain": [
       "             Predicted: 0  Predicted: 1\n",
       "Observed: 0           117             8\n",
       "Observed: 1            38            12"
      ]
     },
     "execution_count": 52,
     "metadata": {},
     "output_type": "execute_result"
    }
   ],
   "source": [
    "cm = confusion_matrix ( y_test , test_lr_pred )\n",
    "conf = pd.DataFrame ( data = cm , index = [ \"Observed: 0\" , \"Observed: 1\" ] , \n",
    "                    columns = [ \"Predicted: 0\" , \"Predicted: 1\" ] )\n",
    "conf"
   ]
  },
  {
   "cell_type": "code",
   "execution_count": 53,
   "metadata": {},
   "outputs": [
    {
     "data": {
      "image/png": "[encoded data removed]",
      "text/plain": [
       "<Figure size 432x288 with 2 Axes>"
      ]
     },
     "metadata": {},
     "output_type": "display_data"
    }
   ],
   "source": [
    "#Heatmap for confusion matrix\n",
    "sns.heatmap ( conf , cmap = \"coolwarm\" , square = True , annot = True )\n",
    "plt.show ( )"
   ]
  },
  {
   "cell_type": "code",
   "execution_count": 54,
   "metadata": {},
   "outputs": [
    {
     "name": "stdout",
     "output_type": "stream",
     "text": [
      "Sensitivity: 0.24\n",
      "Specificity: 0.936\n",
      "Precision: 0.7371428571428571\n",
      "Accuracy: 0.6\n"
     ]
    }
   ],
   "source": [
    "true_neg = cm [ 0 , 0 ]\n",
    "true_pos = cm [ 1 , 1 ]\n",
    "false_neg = cm [ 1 , 0 ]\n",
    "false_pos = cm [ 0 , 1 ]\n",
    "sensitivity = true_pos / ( true_pos + false_neg )\n",
    "specifcity = true_neg / ( true_neg + false_pos )\n",
    "precision = ( true_pos + true_neg ) / ( true_neg + true_pos + false_neg + false_pos )\n",
    "accuracy = true_pos / ( true_pos + false_pos )\n",
    "print ( \"Sensitivity:\" , sensitivity )\n",
    "print ( \"Specificity:\" , specifcity )\n",
    "print ( \"Precision:\" , precision )\n",
    "print ( \"Accuracy:\" , accuracy )"
   ]
  },
  {
   "cell_type": "code",
   "execution_count": 55,
   "metadata": {},
   "outputs": [
    {
     "data": {
      "text/html": [
       "<div>\n",
       "<style scoped>\n",
       "    .dataframe tbody tr th:only-of-type {\n",
       "        vertical-align: middle;\n",
       "    }\n",
       "\n",
       "    .dataframe tbody tr th {\n",
       "        vertical-align: top;\n",
       "    }\n",
       "\n",
       "    .dataframe thead th {\n",
       "        text-align: right;\n",
       "    }\n",
       "</style>\n",
       "<table border=\"1\" class=\"dataframe\">\n",
       "  <thead>\n",
       "    <tr style=\"text-align: right;\">\n",
       "      <th></th>\n",
       "      <th>Not Being a liver patient</th>\n",
       "      <th>Being a Liver Patient</th>\n",
       "    </tr>\n",
       "  </thead>\n",
       "  <tbody>\n",
       "    <tr>\n",
       "      <th>0</th>\n",
       "      <td>0.849896</td>\n",
       "      <td>0.150104</td>\n",
       "    </tr>\n",
       "    <tr>\n",
       "      <th>1</th>\n",
       "      <td>0.487312</td>\n",
       "      <td>0.512688</td>\n",
       "    </tr>\n",
       "    <tr>\n",
       "      <th>2</th>\n",
       "      <td>0.834629</td>\n",
       "      <td>0.165371</td>\n",
       "    </tr>\n",
       "    <tr>\n",
       "      <th>3</th>\n",
       "      <td>0.830043</td>\n",
       "      <td>0.169957</td>\n",
       "    </tr>\n",
       "    <tr>\n",
       "      <th>4</th>\n",
       "      <td>0.968735</td>\n",
       "      <td>0.031265</td>\n",
       "    </tr>\n",
       "  </tbody>\n",
       "</table>\n",
       "</div>"
      ],
      "text/plain": [
       "   Not Being a liver patient  Being a Liver Patient\n",
       "0                   0.849896               0.150104\n",
       "1                   0.487312               0.512688\n",
       "2                   0.834629               0.165371\n",
       "3                   0.830043               0.169957\n",
       "4                   0.968735               0.031265"
      ]
     },
     "execution_count": 55,
     "metadata": {},
     "output_type": "execute_result"
    }
   ],
   "source": [
    "lr_pred_prob = lr.predict_proba ( X_test )\n",
    "lr_pred_prob_df = pd.DataFrame ( lr_pred_prob , columns = [ \"Not Being a liver patient\" , \"Being a Liver Patient\" ] )\n",
    "lr_pred_prob_df.head ( )"
   ]
  },
  {
   "cell_type": "code",
   "execution_count": 56,
   "metadata": {},
   "outputs": [
    {
     "name": "stdout",
     "output_type": "stream",
     "text": [
      "[[32 93]\n",
      " [ 0 50]]\n",
      "Threshold: 0.05\n",
      "Errors: 93\n",
      "Type-II errors: 93\n",
      "Specificity: 0.256\n",
      "Sensitivity: 1.0\n",
      "\n",
      "\n",
      "[[46 79]\n",
      " [ 1 49]]\n",
      "Threshold: 0.1\n",
      "Errors: 80\n",
      "Type-II errors: 79\n",
      "Specificity: 0.368\n",
      "Sensitivity: 0.98\n",
      "\n",
      "\n",
      "[[53 72]\n",
      " [ 3 47]]\n",
      "Threshold: 0.15\n",
      "Errors: 75\n",
      "Type-II errors: 72\n",
      "Specificity: 0.424\n",
      "Sensitivity: 0.94\n",
      "\n",
      "\n",
      "[[61 64]\n",
      " [ 6 44]]\n",
      "Threshold: 0.2\n",
      "Errors: 70\n",
      "Type-II errors: 64\n",
      "Specificity: 0.488\n",
      "Sensitivity: 0.88\n",
      "\n",
      "\n",
      "[[68 57]\n",
      " [10 40]]\n",
      "Threshold: 0.25\n",
      "Errors: 67\n",
      "Type-II errors: 57\n",
      "Specificity: 0.544\n",
      "Sensitivity: 0.8\n",
      "\n",
      "\n",
      "[[80 45]\n",
      " [13 37]]\n",
      "Threshold: 0.3\n",
      "Errors: 58\n",
      "Type-II errors: 45\n",
      "Specificity: 0.64\n",
      "Sensitivity: 0.74\n",
      "\n",
      "\n",
      "[[88 37]\n",
      " [21 29]]\n",
      "Threshold: 0.35\n",
      "Errors: 58\n",
      "Type-II errors: 37\n",
      "Specificity: 0.704\n",
      "Sensitivity: 0.58\n",
      "\n",
      "\n",
      "[[105  20]\n",
      " [ 27  23]]\n",
      "Threshold: 0.4\n",
      "Errors: 47\n",
      "Type-II errors: 20\n",
      "Specificity: 0.84\n",
      "Sensitivity: 0.46\n",
      "\n",
      "\n",
      "[[111  14]\n",
      " [ 33  17]]\n",
      "Threshold: 0.45\n",
      "Errors: 47\n",
      "Type-II errors: 14\n",
      "Specificity: 0.888\n",
      "Sensitivity: 0.34\n",
      "\n",
      "\n",
      "[[117   8]\n",
      " [ 38  12]]\n",
      "Threshold: 0.5\n",
      "Errors: 46\n",
      "Type-II errors: 8\n",
      "Specificity: 0.936\n",
      "Sensitivity: 0.24\n",
      "\n",
      "\n",
      "[[119   6]\n",
      " [ 45   5]]\n",
      "Threshold: 0.55\n",
      "Errors: 51\n",
      "Type-II errors: 6\n",
      "Specificity: 0.952\n",
      "Sensitivity: 0.1\n",
      "\n",
      "\n",
      "[[122   3]\n",
      " [ 48   2]]\n",
      "Threshold: 0.6\n",
      "Errors: 51\n",
      "Type-II errors: 3\n",
      "Specificity: 0.976\n",
      "Sensitivity: 0.04\n",
      "\n",
      "\n",
      "[[125   0]\n",
      " [ 50   0]]\n",
      "Threshold: 0.65\n",
      "Errors: 50\n",
      "Type-II errors: 0\n",
      "Specificity: 1.0\n",
      "Sensitivity: 0.0\n",
      "\n",
      "\n",
      "[[125   0]\n",
      " [ 50   0]]\n",
      "Threshold: 0.7\n",
      "Errors: 50\n",
      "Type-II errors: 0\n",
      "Specificity: 1.0\n",
      "Sensitivity: 0.0\n",
      "\n",
      "\n"
     ]
    }
   ],
   "source": [
    "for i in range ( 1 , 15 ):\n",
    "    lr_pred2 = binarize ( lr_pred_prob , i / 20 ) [ : , 1 ]\n",
    "    conf_mat = confusion_matrix ( y_test , lr_pred2 )\n",
    "    print ( conf_mat )\n",
    "    print ( \"Threshold:\" , i / 20 )\n",
    "    print ( \"Errors:\" , conf_mat [ 1 , 0 ] + conf_mat [ 0 , 1 ] ) \n",
    "    print ( \"Type-II errors:\" , conf_mat [ 0 , 1 ] )\n",
    "    print ( \"Specificity:\" , round ( conf_mat [ 0 , 0 ] / ( conf_mat [ 0 , 0 ] + conf_mat [ 0 , 1 ] ) , 3 ) )\n",
    "    print ( \"Sensitivity:\" , round ( conf_mat [ 1 , 1 ] / ( conf_mat [ 1 , 1 ] + conf_mat [ 1 , 0 ] ) , 3 ) )\n",
    "    print ( \"\\n\" )"
   ]
  },
  {
   "cell_type": "markdown",
   "metadata": {},
   "source": [
    "- We can see that the best threshold obtained is 0.55 with only 6 Type-II errors."
   ]
  },
  {
   "cell_type": "code",
   "execution_count": 57,
   "metadata": {},
   "outputs": [
    {
     "data": {
      "image/png": "[encoded data removed]",
      "text/plain": [
       "<Figure size 432x288 with 1 Axes>"
      ]
     },
     "metadata": {},
     "output_type": "display_data"
    }
   ],
   "source": [
    "#Plotting ROC curve\n",
    "fpr , tpr , threshold = roc_curve ( y_test , lr_pred_prob [ : , 1 ] )\n",
    "plt.plot ( fpr , tpr )\n",
    "plt.title ( \"ROC Cruve for Liver Patient\" )\n",
    "plt.xlabel ( \"False Positive Rate\" )\n",
    "plt.ylabel ( \"True Positive Rate\" )\n",
    "plt.grid ( True )\n",
    "plt.show ( )"
   ]
  },
  {
   "cell_type": "code",
   "execution_count": 58,
   "metadata": {},
   "outputs": [
    {
     "data": {
      "text/plain": [
       "0.7478400000000001"
      ]
     },
     "execution_count": 58,
     "metadata": {},
     "output_type": "execute_result"
    }
   ],
   "source": [
    "roc_auc_score ( y_test , lr_pred_prob [ : , 1 ] )"
   ]
  },
  {
   "cell_type": "markdown",
   "metadata": {},
   "source": [
    "- We can look at Confusion matrix, probabilities of being a Liver patient, Sensitivity, Specificity, getting best threshold using Binarize and ROC curve which indicates how well probabilities from positive class are seperated from negative class."
   ]
  },
  {
   "cell_type": "markdown",
   "metadata": {},
   "source": [
    "- We will try implementing all the other models like Logit using ML, Random Forest, Decision Tree, Naive Bayes and K-Nearest Neighbours. \n",
    "- We will fit a base model for all th models and check which model performs the best\n",
    "- We will perform the hyperparamter tuning for the same.too."
   ]
  },
  {
   "cell_type": "markdown",
   "metadata": {},
   "source": [
    "###### Logit using ML:"
   ]
  },
  {
   "cell_type": "code",
   "execution_count": 59,
   "metadata": {},
   "outputs": [
    {
     "data": {
      "text/plain": [
       "LogisticRegression(C=1.0, class_weight=None, dual=False, fit_intercept=True,\n",
       "                   intercept_scaling=1, l1_ratio=None, max_iter=100,\n",
       "                   multi_class='auto', n_jobs=None, penalty='l2',\n",
       "                   random_state=None, solver='liblinear', tol=0.0001, verbose=0,\n",
       "                   warm_start=False)"
      ]
     },
     "execution_count": 59,
     "metadata": {},
     "output_type": "execute_result"
    }
   ],
   "source": [
    "x_train, x_test, y_train, y_test = train_test_split(X, y, test_size=0.3, random_state=1)\n",
    "from sklearn.linear_model import LogisticRegression\n",
    "logreg = LogisticRegression(solver='liblinear', fit_intercept=True)\n",
    "logreg.fit(x_train, y_train)"
   ]
  },
  {
   "cell_type": "code",
   "execution_count": 60,
   "metadata": {},
   "outputs": [
    {
     "data": {
      "text/plain": [
       "array([[7.32586083e-01, 2.67413917e-01],\n",
       "       [4.72983441e-01, 5.27016559e-01],\n",
       "       [7.89979069e-01, 2.10020931e-01],\n",
       "       [8.16177833e-01, 1.83822167e-01],\n",
       "       [9.64905193e-01, 3.50948066e-02],\n",
       "       [9.52882090e-01, 4.71179102e-02],\n",
       "       [9.99999634e-01, 3.65989422e-07],\n",
       "       [8.07336976e-01, 1.92663024e-01],\n",
       "       [9.69289171e-01, 3.07108289e-02],\n",
       "       [8.53642351e-01, 1.46357649e-01],\n",
       "       [5.78245368e-01, 4.21754632e-01],\n",
       "       [8.49338857e-01, 1.50661143e-01],\n",
       "       [7.15082601e-01, 2.84917399e-01],\n",
       "       [3.14364477e-01, 6.85635523e-01],\n",
       "       [7.19429299e-01, 2.80570701e-01],\n",
       "       [6.64521583e-01, 3.35478417e-01],\n",
       "       [9.78073712e-01, 2.19262877e-02],\n",
       "       [5.79995636e-01, 4.20004364e-01],\n",
       "       [5.37612690e-01, 4.62387310e-01],\n",
       "       [6.28834457e-01, 3.71165543e-01],\n",
       "       [5.86877702e-01, 4.13122298e-01],\n",
       "       [9.20498565e-01, 7.95014351e-02],\n",
       "       [9.26238231e-01, 7.37617689e-02],\n",
       "       [4.45048320e-01, 5.54951680e-01],\n",
       "       [9.97221014e-01, 2.77898558e-03],\n",
       "       [9.42313541e-01, 5.76864590e-02],\n",
       "       [5.90076890e-01, 4.09923110e-01],\n",
       "       [4.81243199e-01, 5.18756801e-01],\n",
       "       [4.83445666e-01, 5.16554334e-01],\n",
       "       [4.36407965e-01, 5.63592035e-01],\n",
       "       [4.56600078e-01, 5.43399922e-01],\n",
       "       [9.95783087e-01, 4.21691293e-03],\n",
       "       [4.43234465e-01, 5.56765535e-01],\n",
       "       [8.42734238e-01, 1.57265762e-01],\n",
       "       [7.93064187e-01, 2.06935813e-01],\n",
       "       [7.92057419e-01, 2.07942581e-01],\n",
       "       [8.20338876e-01, 1.79661124e-01],\n",
       "       [8.97976623e-01, 1.02023377e-01],\n",
       "       [8.89267633e-01, 1.10732367e-01],\n",
       "       [8.91096661e-01, 1.08903339e-01],\n",
       "       [7.80129279e-01, 2.19870721e-01],\n",
       "       [6.24791018e-01, 3.75208982e-01],\n",
       "       [8.15066914e-01, 1.84933086e-01],\n",
       "       [7.53272088e-01, 2.46727912e-01],\n",
       "       [6.65490089e-01, 3.34509911e-01],\n",
       "       [7.86709559e-01, 2.13290441e-01],\n",
       "       [9.94420387e-01, 5.57961321e-03],\n",
       "       [9.65759180e-01, 3.42408203e-02],\n",
       "       [7.44131910e-01, 2.55868090e-01],\n",
       "       [6.87647872e-01, 3.12352128e-01],\n",
       "       [6.61876270e-01, 3.38123730e-01],\n",
       "       [6.83581955e-01, 3.16418045e-01],\n",
       "       [9.61161997e-01, 3.88380030e-02],\n",
       "       [9.88591851e-01, 1.14081493e-02],\n",
       "       [5.45817299e-01, 4.54182701e-01],\n",
       "       [3.99344918e-01, 6.00655082e-01],\n",
       "       [9.80494070e-01, 1.95059302e-02],\n",
       "       [6.33825949e-01, 3.66174051e-01],\n",
       "       [9.85632898e-01, 1.43671021e-02],\n",
       "       [6.78115676e-01, 3.21884324e-01],\n",
       "       [9.94276189e-01, 5.72381053e-03],\n",
       "       [6.57625194e-01, 3.42374806e-01],\n",
       "       [9.99831115e-01, 1.68885245e-04],\n",
       "       [7.18739696e-01, 2.81260304e-01],\n",
       "       [6.57671085e-01, 3.42328915e-01],\n",
       "       [5.83704737e-01, 4.16295263e-01],\n",
       "       [7.10621281e-01, 2.89378719e-01],\n",
       "       [4.62657431e-01, 5.37342569e-01],\n",
       "       [4.13120568e-01, 5.86879432e-01],\n",
       "       [5.24447542e-01, 4.75552458e-01],\n",
       "       [6.19525074e-01, 3.80474926e-01],\n",
       "       [6.85903396e-01, 3.14096604e-01],\n",
       "       [6.74679191e-01, 3.25320809e-01],\n",
       "       [7.32713002e-01, 2.67286998e-01],\n",
       "       [9.15714992e-01, 8.42850079e-02],\n",
       "       [5.58254117e-01, 4.41745883e-01],\n",
       "       [9.99999466e-01, 5.33728098e-07],\n",
       "       [7.17304166e-01, 2.82695834e-01],\n",
       "       [5.70034453e-01, 4.29965547e-01],\n",
       "       [4.33490939e-01, 5.66509061e-01],\n",
       "       [9.98560505e-01, 1.43949518e-03],\n",
       "       [8.52309887e-01, 1.47690113e-01],\n",
       "       [4.28798239e-01, 5.71201761e-01],\n",
       "       [9.68467090e-01, 3.15329102e-02],\n",
       "       [6.85228691e-01, 3.14771309e-01],\n",
       "       [7.04130287e-01, 2.95869713e-01],\n",
       "       [6.37422984e-01, 3.62577016e-01],\n",
       "       [6.98183495e-01, 3.01816505e-01],\n",
       "       [9.21824936e-01, 7.81750637e-02],\n",
       "       [6.13919345e-01, 3.86080655e-01],\n",
       "       [6.24858588e-01, 3.75141412e-01],\n",
       "       [7.74070342e-01, 2.25929658e-01],\n",
       "       [7.23671516e-01, 2.76328484e-01],\n",
       "       [6.74473981e-01, 3.25526019e-01],\n",
       "       [8.54181774e-01, 1.45818226e-01],\n",
       "       [7.47213817e-01, 2.52786183e-01],\n",
       "       [6.61789831e-01, 3.38210169e-01],\n",
       "       [5.70157779e-01, 4.29842221e-01],\n",
       "       [8.34280496e-01, 1.65719504e-01],\n",
       "       [9.91647507e-01, 8.35249325e-03],\n",
       "       [6.46776413e-01, 3.53223587e-01],\n",
       "       [9.99999781e-01, 2.18577181e-07],\n",
       "       [4.58995263e-01, 5.41004737e-01],\n",
       "       [7.52077181e-01, 2.47922819e-01],\n",
       "       [7.67549099e-01, 2.32450901e-01],\n",
       "       [7.52287069e-01, 2.47712931e-01],\n",
       "       [6.65794466e-01, 3.34205534e-01],\n",
       "       [5.62084358e-01, 4.37915642e-01],\n",
       "       [4.72018230e-01, 5.27981770e-01],\n",
       "       [7.03391083e-01, 2.96608917e-01],\n",
       "       [5.10825489e-01, 4.89174511e-01],\n",
       "       [5.89355887e-01, 4.10644113e-01],\n",
       "       [9.99751169e-01, 2.48830737e-04],\n",
       "       [6.42649823e-01, 3.57350177e-01],\n",
       "       [6.05863972e-01, 3.94136028e-01],\n",
       "       [7.50778927e-01, 2.49221073e-01],\n",
       "       [9.36670112e-01, 6.33298878e-02],\n",
       "       [5.87829892e-01, 4.12170108e-01],\n",
       "       [5.95512990e-01, 4.04487010e-01],\n",
       "       [7.52499920e-01, 2.47500080e-01],\n",
       "       [6.62569984e-01, 3.37430016e-01],\n",
       "       [5.27948680e-01, 4.72051320e-01],\n",
       "       [6.78345247e-01, 3.21654753e-01],\n",
       "       [7.42391648e-01, 2.57608352e-01],\n",
       "       [5.32593125e-01, 4.67406875e-01],\n",
       "       [9.99911990e-01, 8.80096990e-05],\n",
       "       [9.38662084e-01, 6.13379159e-02],\n",
       "       [4.23815040e-01, 5.76184960e-01],\n",
       "       [6.24378924e-01, 3.75621076e-01],\n",
       "       [8.91388532e-01, 1.08611468e-01],\n",
       "       [9.99883560e-01, 1.16439843e-04],\n",
       "       [6.13330708e-01, 3.86669292e-01],\n",
       "       [8.64785903e-01, 1.35214097e-01],\n",
       "       [9.47300223e-01, 5.26997774e-02],\n",
       "       [9.80467284e-01, 1.95327162e-02],\n",
       "       [5.41501543e-01, 4.58498457e-01],\n",
       "       [9.33327061e-01, 6.66729392e-02],\n",
       "       [4.56971759e-01, 5.43028241e-01],\n",
       "       [9.99999999e-01, 1.46221179e-09],\n",
       "       [7.53761002e-01, 2.46238998e-01],\n",
       "       [6.01791918e-01, 3.98208082e-01],\n",
       "       [6.52788703e-01, 3.47211297e-01],\n",
       "       [5.70005774e-01, 4.29994226e-01],\n",
       "       [9.84752948e-01, 1.52470520e-02],\n",
       "       [8.84007375e-01, 1.15992625e-01],\n",
       "       [5.94024650e-01, 4.05975350e-01],\n",
       "       [6.44825542e-01, 3.55174458e-01],\n",
       "       [6.32425521e-01, 3.67574479e-01],\n",
       "       [7.27951687e-01, 2.72048313e-01],\n",
       "       [8.08851817e-01, 1.91148183e-01],\n",
       "       [6.30432286e-01, 3.69567714e-01],\n",
       "       [6.10909690e-01, 3.89090310e-01],\n",
       "       [7.08097701e-01, 2.91902299e-01],\n",
       "       [7.65367238e-01, 2.34632762e-01],\n",
       "       [7.60008250e-01, 2.39991750e-01],\n",
       "       [8.06359696e-01, 1.93640304e-01],\n",
       "       [7.54545280e-01, 2.45454720e-01],\n",
       "       [7.05463047e-01, 2.94536953e-01],\n",
       "       [7.09437245e-01, 2.90562755e-01],\n",
       "       [8.25582996e-01, 1.74417004e-01],\n",
       "       [8.33945200e-01, 1.66054800e-01],\n",
       "       [9.99846934e-01, 1.53066001e-04],\n",
       "       [6.32760359e-01, 3.67239641e-01],\n",
       "       [6.09550377e-01, 3.90449623e-01],\n",
       "       [9.99903334e-01, 9.66659053e-05],\n",
       "       [3.66597536e-01, 6.33402464e-01],\n",
       "       [9.56381482e-01, 4.36185176e-02],\n",
       "       [9.04943009e-01, 9.50569909e-02],\n",
       "       [6.55993341e-01, 3.44006659e-01],\n",
       "       [8.64821289e-01, 1.35178711e-01],\n",
       "       [9.15544289e-01, 8.44557108e-02],\n",
       "       [5.43767703e-01, 4.56232297e-01],\n",
       "       [7.41088333e-01, 2.58911667e-01],\n",
       "       [8.43115820e-01, 1.56884180e-01],\n",
       "       [6.83855020e-01, 3.16144980e-01]])"
      ]
     },
     "execution_count": 60,
     "metadata": {},
     "output_type": "execute_result"
    }
   ],
   "source": [
    "y_prob = logreg.predict_proba(x_test)\n",
    "y_prob"
   ]
  },
  {
   "cell_type": "code",
   "execution_count": 61,
   "metadata": {
    "scrolled": true
   },
   "outputs": [
    {
     "data": {
      "text/plain": [
       "array([2.67413917e-01, 5.27016559e-01, 2.10020931e-01, 1.83822167e-01,\n",
       "       3.50948066e-02, 4.71179102e-02, 3.65989422e-07, 1.92663024e-01,\n",
       "       3.07108289e-02, 1.46357649e-01, 4.21754632e-01, 1.50661143e-01,\n",
       "       2.84917399e-01, 6.85635523e-01, 2.80570701e-01, 3.35478417e-01,\n",
       "       2.19262877e-02, 4.20004364e-01, 4.62387310e-01, 3.71165543e-01,\n",
       "       4.13122298e-01, 7.95014351e-02, 7.37617689e-02, 5.54951680e-01,\n",
       "       2.77898558e-03, 5.76864590e-02, 4.09923110e-01, 5.18756801e-01,\n",
       "       5.16554334e-01, 5.63592035e-01, 5.43399922e-01, 4.21691293e-03,\n",
       "       5.56765535e-01, 1.57265762e-01, 2.06935813e-01, 2.07942581e-01,\n",
       "       1.79661124e-01, 1.02023377e-01, 1.10732367e-01, 1.08903339e-01,\n",
       "       2.19870721e-01, 3.75208982e-01, 1.84933086e-01, 2.46727912e-01,\n",
       "       3.34509911e-01, 2.13290441e-01, 5.57961321e-03, 3.42408203e-02,\n",
       "       2.55868090e-01, 3.12352128e-01, 3.38123730e-01, 3.16418045e-01,\n",
       "       3.88380030e-02, 1.14081493e-02, 4.54182701e-01, 6.00655082e-01,\n",
       "       1.95059302e-02, 3.66174051e-01, 1.43671021e-02, 3.21884324e-01,\n",
       "       5.72381053e-03, 3.42374806e-01, 1.68885245e-04, 2.81260304e-01,\n",
       "       3.42328915e-01, 4.16295263e-01, 2.89378719e-01, 5.37342569e-01,\n",
       "       5.86879432e-01, 4.75552458e-01, 3.80474926e-01, 3.14096604e-01,\n",
       "       3.25320809e-01, 2.67286998e-01, 8.42850079e-02, 4.41745883e-01,\n",
       "       5.33728098e-07, 2.82695834e-01, 4.29965547e-01, 5.66509061e-01,\n",
       "       1.43949518e-03, 1.47690113e-01, 5.71201761e-01, 3.15329102e-02,\n",
       "       3.14771309e-01, 2.95869713e-01, 3.62577016e-01, 3.01816505e-01,\n",
       "       7.81750637e-02, 3.86080655e-01, 3.75141412e-01, 2.25929658e-01,\n",
       "       2.76328484e-01, 3.25526019e-01, 1.45818226e-01, 2.52786183e-01,\n",
       "       3.38210169e-01, 4.29842221e-01, 1.65719504e-01, 8.35249325e-03,\n",
       "       3.53223587e-01, 2.18577181e-07, 5.41004737e-01, 2.47922819e-01,\n",
       "       2.32450901e-01, 2.47712931e-01, 3.34205534e-01, 4.37915642e-01,\n",
       "       5.27981770e-01, 2.96608917e-01, 4.89174511e-01, 4.10644113e-01,\n",
       "       2.48830737e-04, 3.57350177e-01, 3.94136028e-01, 2.49221073e-01,\n",
       "       6.33298878e-02, 4.12170108e-01, 4.04487010e-01, 2.47500080e-01,\n",
       "       3.37430016e-01, 4.72051320e-01, 3.21654753e-01, 2.57608352e-01,\n",
       "       4.67406875e-01, 8.80096990e-05, 6.13379159e-02, 5.76184960e-01,\n",
       "       3.75621076e-01, 1.08611468e-01, 1.16439843e-04, 3.86669292e-01,\n",
       "       1.35214097e-01, 5.26997774e-02, 1.95327162e-02, 4.58498457e-01,\n",
       "       6.66729392e-02, 5.43028241e-01, 1.46221179e-09, 2.46238998e-01,\n",
       "       3.98208082e-01, 3.47211297e-01, 4.29994226e-01, 1.52470520e-02,\n",
       "       1.15992625e-01, 4.05975350e-01, 3.55174458e-01, 3.67574479e-01,\n",
       "       2.72048313e-01, 1.91148183e-01, 3.69567714e-01, 3.89090310e-01,\n",
       "       2.91902299e-01, 2.34632762e-01, 2.39991750e-01, 1.93640304e-01,\n",
       "       2.45454720e-01, 2.94536953e-01, 2.90562755e-01, 1.74417004e-01,\n",
       "       1.66054800e-01, 1.53066001e-04, 3.67239641e-01, 3.90449623e-01,\n",
       "       9.66659053e-05, 6.33402464e-01, 4.36185176e-02, 9.50569909e-02,\n",
       "       3.44006659e-01, 1.35178711e-01, 8.44557108e-02, 4.56232297e-01,\n",
       "       2.58911667e-01, 1.56884180e-01, 3.16144980e-01])"
      ]
     },
     "execution_count": 61,
     "metadata": {},
     "output_type": "execute_result"
    }
   ],
   "source": [
    "y_prob = logreg.predict_proba(x_test)[:,1]\n",
    "y_prob"
   ]
  },
  {
   "cell_type": "code",
   "execution_count": 62,
   "metadata": {},
   "outputs": [
    {
     "data": {
      "text/plain": [
       "array([0, 1, 0, 0, 0, 0, 0, 0, 0, 0, 0, 0, 0, 1, 0, 0, 0, 0, 0, 0, 0, 0,\n",
       "       0, 1, 0, 0, 0, 1, 1, 1, 1, 0, 1, 0, 0, 0, 0, 0, 0, 0, 0, 0, 0, 0,\n",
       "       0, 0, 0, 0, 0, 0, 0, 0, 0, 0, 0, 1, 0, 0, 0, 0, 0, 0, 0, 0, 0, 0,\n",
       "       0, 1, 1, 0, 0, 0, 0, 0, 0, 0, 0, 0, 0, 1, 0, 0, 1, 0, 0, 0, 0, 0,\n",
       "       0, 0, 0, 0, 0, 0, 0, 0, 0, 0, 0, 0, 0, 0, 1, 0, 0, 0, 0, 0, 1, 0,\n",
       "       0, 0, 0, 0, 0, 0, 0, 0, 0, 0, 0, 0, 0, 0, 0, 0, 0, 1, 0, 0, 0, 0,\n",
       "       0, 0, 0, 0, 0, 1, 0, 0, 0, 0, 0, 0, 0, 0, 0, 0, 0, 0, 0, 0, 0, 0,\n",
       "       0, 0, 0, 0, 0, 0, 0, 0, 0, 0, 0, 1, 0, 0, 0, 0, 0, 0, 0, 0, 0])"
      ]
     },
     "execution_count": 62,
     "metadata": {},
     "output_type": "execute_result"
    }
   ],
   "source": [
    "y_pred = logreg.predict(x_test) \n",
    "y_pred"
   ]
  },
  {
   "cell_type": "code",
   "execution_count": 63,
   "metadata": {},
   "outputs": [
    {
     "data": {
      "text/plain": [
       "0.7257142857142858"
      ]
     },
     "execution_count": 63,
     "metadata": {},
     "output_type": "execute_result"
    }
   ],
   "source": [
    "accuracy_score_Logit_ML = accuracy_score(y_test,y_pred)\n",
    "accuracy_score_Logit_ML"
   ]
  },
  {
   "cell_type": "code",
   "execution_count": 64,
   "metadata": {},
   "outputs": [],
   "source": [
    "#For train data\n",
    "y_prob_train = logreg.predict_proba(x_train)[:,1]\n",
    "y_pred_train = logreg.predict(x_train)"
   ]
  },
  {
   "cell_type": "code",
   "execution_count": 65,
   "metadata": {},
   "outputs": [
    {
     "name": "stdout",
     "output_type": "stream",
     "text": [
      "Confussion matrix - Train:  \n",
      " [[274  17]\n",
      " [ 93  24]]\n",
      "Overall accuracy - Train:  0.7303921568627451\n",
      "Confussion matrix - Test:  \n",
      " [[117   8]\n",
      " [ 40  10]]\n",
      "Overall accuracy - Test:  0.7257142857142858\n"
     ]
    }
   ],
   "source": [
    "print('Confussion matrix - Train: ','\\n',confusion_matrix(y_train,y_pred_train))\n",
    "print('Overall accuracy - Train: ',accuracy_score(y_train,y_pred_train))\n",
    "print('Confussion matrix - Test: ','\\n',confusion_matrix(y_test,y_pred))\n",
    "print('Overall accuracy - Test: ',accuracy_score(y_test,y_pred))"
   ]
  },
  {
   "cell_type": "code",
   "execution_count": 66,
   "metadata": {},
   "outputs": [
    {
     "data": {
      "text/html": [
       "<div>\n",
       "<style scoped>\n",
       "    .dataframe tbody tr th:only-of-type {\n",
       "        vertical-align: middle;\n",
       "    }\n",
       "\n",
       "    .dataframe tbody tr th {\n",
       "        vertical-align: top;\n",
       "    }\n",
       "\n",
       "    .dataframe thead th {\n",
       "        text-align: right;\n",
       "    }\n",
       "</style>\n",
       "<table border=\"1\" class=\"dataframe\">\n",
       "  <thead>\n",
       "    <tr style=\"text-align: right;\">\n",
       "      <th></th>\n",
       "      <th>0</th>\n",
       "      <th>1</th>\n",
       "    </tr>\n",
       "  </thead>\n",
       "  <tbody>\n",
       "    <tr>\n",
       "      <th>0</th>\n",
       "      <td>0.501010</td>\n",
       "      <td>0.0</td>\n",
       "    </tr>\n",
       "    <tr>\n",
       "      <th>1</th>\n",
       "      <td>0.485129</td>\n",
       "      <td>1.0</td>\n",
       "    </tr>\n",
       "    <tr>\n",
       "      <th>2</th>\n",
       "      <td>0.269365</td>\n",
       "      <td>0.0</td>\n",
       "    </tr>\n",
       "    <tr>\n",
       "      <th>3</th>\n",
       "      <td>0.003735</td>\n",
       "      <td>0.0</td>\n",
       "    </tr>\n",
       "    <tr>\n",
       "      <th>4</th>\n",
       "      <td>0.404845</td>\n",
       "      <td>1.0</td>\n",
       "    </tr>\n",
       "    <tr>\n",
       "      <th>...</th>\n",
       "      <td>...</td>\n",
       "      <td>...</td>\n",
       "    </tr>\n",
       "    <tr>\n",
       "      <th>403</th>\n",
       "      <td>0.222871</td>\n",
       "      <td>0.0</td>\n",
       "    </tr>\n",
       "    <tr>\n",
       "      <th>404</th>\n",
       "      <td>0.259503</td>\n",
       "      <td>0.0</td>\n",
       "    </tr>\n",
       "    <tr>\n",
       "      <th>405</th>\n",
       "      <td>0.292097</td>\n",
       "      <td>0.0</td>\n",
       "    </tr>\n",
       "    <tr>\n",
       "      <th>406</th>\n",
       "      <td>0.064848</td>\n",
       "      <td>0.0</td>\n",
       "    </tr>\n",
       "    <tr>\n",
       "      <th>407</th>\n",
       "      <td>0.043656</td>\n",
       "      <td>0.0</td>\n",
       "    </tr>\n",
       "  </tbody>\n",
       "</table>\n",
       "<p>408 rows × 2 columns</p>\n",
       "</div>"
      ],
      "text/plain": [
       "            0    1\n",
       "0    0.501010  0.0\n",
       "1    0.485129  1.0\n",
       "2    0.269365  0.0\n",
       "3    0.003735  0.0\n",
       "4    0.404845  1.0\n",
       "..        ...  ...\n",
       "403  0.222871  0.0\n",
       "404  0.259503  0.0\n",
       "405  0.292097  0.0\n",
       "406  0.064848  0.0\n",
       "407  0.043656  0.0\n",
       "\n",
       "[408 rows x 2 columns]"
      ]
     },
     "execution_count": 66,
     "metadata": {},
     "output_type": "execute_result"
    }
   ],
   "source": [
    "prob_plot = pd.DataFrame([y_prob_train, y_train]).T\n",
    "prob_plot"
   ]
  },
  {
   "cell_type": "code",
   "execution_count": 67,
   "metadata": {},
   "outputs": [
    {
     "data": {
      "image/png": "[encoded data removed]",
      "text/plain": [
       "<Figure size 1440x720 with 1 Axes>"
      ]
     },
     "metadata": {},
     "output_type": "display_data"
    }
   ],
   "source": [
    "plt.figure(figsize=(20,10))\n",
    "sns.distplot(prob_plot[0][prob_plot[1]==0],hist=False)\n",
    "sns.distplot(prob_plot[0][prob_plot[1]==1],hist=False)\n",
    "plt.show()"
   ]
  },
  {
   "cell_type": "code",
   "execution_count": 68,
   "metadata": {},
   "outputs": [],
   "source": [
    "logreg = LogisticRegression(solver='liblinear', fit_intercept=True)\n",
    "logreg.fit(x_train, y_train)\n",
    "y_prob = logreg.predict_proba(x_test)[:,1]\n",
    "y_pred = logreg.predict(x_test) #to change threshold should do it manually\n",
    "#For train data\n",
    "y_prob_train = logreg.predict_proba(x_train)[:,1]\n",
    "y_pred_train = logreg.predict(x_train)"
   ]
  },
  {
   "cell_type": "code",
   "execution_count": 69,
   "metadata": {},
   "outputs": [
    {
     "name": "stdout",
     "output_type": "stream",
     "text": [
      "AUC of train:  0.755514435926807\n"
     ]
    },
    {
     "data": {
      "image/png": "[encoded data removed]",
      "text/plain": [
       "<Figure size 432x288 with 1 Axes>"
      ]
     },
     "metadata": {},
     "output_type": "display_data"
    }
   ],
   "source": [
    "print('AUC of train: ', roc_auc_score(y_train, y_prob_train)) #for train data\n",
    "fpr, tpr, thresholds = roc_curve(y_train, y_prob_train)\n",
    "plt.plot(fpr, tpr)\n",
    "plt.plot(fpr, fpr, 'r-')\n",
    "plt.xlabel('FPR')\n",
    "plt.ylabel('TPR')\n",
    "plt.title('ROC_Curve of Train data')\n",
    "plt.show()"
   ]
  },
  {
   "cell_type": "code",
   "execution_count": 70,
   "metadata": {},
   "outputs": [
    {
     "name": "stdout",
     "output_type": "stream",
     "text": [
      "AUC of test:  0.75712\n"
     ]
    },
    {
     "data": {
      "image/png": "[encoded data removed]",
      "text/plain": [
       "<Figure size 432x288 with 1 Axes>"
      ]
     },
     "metadata": {},
     "output_type": "display_data"
    }
   ],
   "source": [
    "print('AUC of test: ', roc_auc_score(y_test, y_prob)) #for test data\n",
    "fpr, tpr, thresholds = roc_curve(y_test, y_prob)\n",
    "plt.plot(fpr, tpr)\n",
    "plt.plot(fpr, fpr, 'r-')\n",
    "plt.xlabel('FPR')\n",
    "plt.ylabel('TPR')\n",
    "plt.title('ROC_Curve of Test data')\n",
    "plt.show()"
   ]
  },
  {
   "cell_type": "code",
   "execution_count": 71,
   "metadata": {},
   "outputs": [
    {
     "name": "stdout",
     "output_type": "stream",
     "text": [
      "[1.68563552e+00 6.85635523e-01 5.76184960e-01 5.66509061e-01\n",
      " 5.63592035e-01 5.54951680e-01 5.43399922e-01 5.41004737e-01\n",
      " 5.37342569e-01 5.18756801e-01 4.89174511e-01 4.75552458e-01\n",
      " 4.62387310e-01 4.58498457e-01 4.56232297e-01 4.41745883e-01\n",
      " 4.37915642e-01 4.29965547e-01 4.29842221e-01 4.21754632e-01\n",
      " 4.12170108e-01 4.10644113e-01 4.09923110e-01 3.89090310e-01\n",
      " 3.75621076e-01 3.75208982e-01 3.75141412e-01 3.69567714e-01\n",
      " 3.62577016e-01 3.57350177e-01 3.47211297e-01 3.44006659e-01\n",
      " 3.42328915e-01 3.38210169e-01 3.38123730e-01 3.37430016e-01\n",
      " 3.34509911e-01 3.25526019e-01 3.21654753e-01 3.16418045e-01\n",
      " 3.14096604e-01 3.12352128e-01 3.01816505e-01 2.91902299e-01\n",
      " 2.82695834e-01 2.81260304e-01 2.80570701e-01 2.76328484e-01\n",
      " 2.55868090e-01 2.52786183e-01 2.49221073e-01 2.47922819e-01\n",
      " 2.47712931e-01 2.47500080e-01 2.10020931e-01 1.93640304e-01\n",
      " 1.65719504e-01 1.57265762e-01 1.46357649e-01 1.45818226e-01\n",
      " 1.35178711e-01 1.15992625e-01 1.46221179e-09]\n"
     ]
    }
   ],
   "source": [
    "print(thresholds) \n",
    "#first one is more than 1"
   ]
  },
  {
   "cell_type": "code",
   "execution_count": 72,
   "metadata": {},
   "outputs": [
    {
     "data": {
      "text/plain": [
       "array([1.00000000e+00, 6.85635523e-01, 5.76184960e-01, 5.66509061e-01,\n",
       "       5.63592035e-01, 5.54951680e-01, 5.43399922e-01, 5.41004737e-01,\n",
       "       5.37342569e-01, 5.18756801e-01, 4.89174511e-01, 4.75552458e-01,\n",
       "       4.62387310e-01, 4.58498457e-01, 4.56232297e-01, 4.41745883e-01,\n",
       "       4.37915642e-01, 4.29965547e-01, 4.29842221e-01, 4.21754632e-01,\n",
       "       4.12170108e-01, 4.10644113e-01, 4.09923110e-01, 3.89090310e-01,\n",
       "       3.75621076e-01, 3.75208982e-01, 3.75141412e-01, 3.69567714e-01,\n",
       "       3.62577016e-01, 3.57350177e-01, 3.47211297e-01, 3.44006659e-01,\n",
       "       3.42328915e-01, 3.38210169e-01, 3.38123730e-01, 3.37430016e-01,\n",
       "       3.34509911e-01, 3.25526019e-01, 3.21654753e-01, 3.16418045e-01,\n",
       "       3.14096604e-01, 3.12352128e-01, 3.01816505e-01, 2.91902299e-01,\n",
       "       2.82695834e-01, 2.81260304e-01, 2.80570701e-01, 2.76328484e-01,\n",
       "       2.55868090e-01, 2.52786183e-01, 2.49221073e-01, 2.47922819e-01,\n",
       "       2.47712931e-01, 2.47500080e-01, 2.10020931e-01, 1.93640304e-01,\n",
       "       1.65719504e-01, 1.57265762e-01, 1.46357649e-01, 1.45818226e-01,\n",
       "       1.35178711e-01, 1.15992625e-01, 1.46221179e-09])"
      ]
     },
     "execution_count": 72,
     "metadata": {},
     "output_type": "execute_result"
    }
   ],
   "source": [
    "thresholds[thresholds>1]=1 #made value more than 1 to 1\n",
    "thresholds"
   ]
  },
  {
   "cell_type": "code",
   "execution_count": 73,
   "metadata": {},
   "outputs": [
    {
     "name": "stdout",
     "output_type": "stream",
     "text": [
      "AUC of train:  0.755514435926807\n"
     ]
    }
   ],
   "source": [
    "print('AUC of train: ', roc_auc_score(y_train, y_prob_train)) #for train data"
   ]
  },
  {
   "cell_type": "code",
   "execution_count": 74,
   "metadata": {},
   "outputs": [
    {
     "data": {
      "image/png": "[encoded data removed]",
      "text/plain": [
       "<Figure size 432x288 with 2 Axes>"
      ]
     },
     "metadata": {},
     "output_type": "display_data"
    }
   ],
   "source": [
    "fig, ax = plt.subplots()\n",
    "\n",
    "ax.plot(fpr, tpr) #blue color\n",
    "ax.plot(fpr, fpr, 'r-') #red color\n",
    "plt.xlabel('FPR')\n",
    "plt.ylabel('TPR')\n",
    "ax1 = ax.twinx()\n",
    "ax1.plot(fpr,thresholds) \n",
    "ax1.set_ylabel('Threshold')\n",
    "\n",
    "plt.title('ROC_Curve of Train data')\n",
    "plt.show()"
   ]
  },
  {
   "cell_type": "markdown",
   "metadata": {},
   "source": [
    "###### Decision Tree:"
   ]
  },
  {
   "cell_type": "code",
   "execution_count": 75,
   "metadata": {},
   "outputs": [],
   "source": [
    "dt = DecisionTreeClassifier()\n",
    "dt.fit(x_train,y_train)\n",
    "y_pred_train = dt.predict(x_train)\n",
    "y_pred = dt.predict(x_test)\n",
    "y_prob = dt.predict_proba(x_test)"
   ]
  },
  {
   "cell_type": "code",
   "execution_count": 76,
   "metadata": {},
   "outputs": [
    {
     "name": "stdout",
     "output_type": "stream",
     "text": [
      "Accuracy of Decision Tree_train:  1.0\n",
      "Accuracy of Decision Tree_test:  0.6571428571428571\n"
     ]
    }
   ],
   "source": [
    "print('Accuracy of Decision Tree_train: ', accuracy_score(y_pred_train, y_train))\n",
    "print('Accuracy of Decision Tree_test: ', accuracy_score(y_pred, y_test))\n",
    "accuracy_score_DT = accuracy_score(y_pred, y_test)"
   ]
  },
  {
   "cell_type": "code",
   "execution_count": 77,
   "metadata": {},
   "outputs": [
    {
     "name": "stdout",
     "output_type": "stream",
     "text": [
      "              precision    recall  f1-score   support\n",
      "\n",
      "           0       0.77      0.74      0.75       125\n",
      "           1       0.41      0.46      0.43        50\n",
      "\n",
      "    accuracy                           0.66       175\n",
      "   macro avg       0.59      0.60      0.59       175\n",
      "weighted avg       0.67      0.66      0.66       175\n",
      "\n"
     ]
    }
   ],
   "source": [
    "print(classification_report ( y_test , y_pred ))"
   ]
  },
  {
   "cell_type": "markdown",
   "metadata": {},
   "source": [
    "###### Random Forest:"
   ]
  },
  {
   "cell_type": "code",
   "execution_count": 78,
   "metadata": {},
   "outputs": [],
   "source": [
    "rfc = RandomForestClassifier(n_estimators=10,random_state=1)\n",
    "rfc.fit(x_train,y_train)\n",
    "y_pred_train = rfc.predict(x_train)\n",
    "y_prob_train = rfc.predict_proba(x_train)[:,1]\n",
    "y_pred = rfc.predict(x_test)\n",
    "y_prob = rfc.predict_proba(x_test)[:,1]"
   ]
  },
  {
   "cell_type": "code",
   "execution_count": 79,
   "metadata": {},
   "outputs": [
    {
     "name": "stdout",
     "output_type": "stream",
     "text": [
      "Accuracy of Random Forest_train:  0.9803921568627451\n",
      "Accuracy of Random Forest_test:  0.68\n",
      "AUC of Random Forest_train:  0.997973389725967\n",
      "AUC of Random Forest_test:  0.6732\n"
     ]
    }
   ],
   "source": [
    "print('Accuracy of Random Forest_train: ', accuracy_score(y_pred_train, y_train))\n",
    "print('Accuracy of Random Forest_test: ', accuracy_score(y_pred, y_test))\n",
    "print('AUC of Random Forest_train: ', roc_auc_score(y_train, y_prob_train))\n",
    "print('AUC of Random Forest_test: ', roc_auc_score(y_test, y_prob))\n",
    "accuracy_score_RF = accuracy_score(y_pred, y_test)"
   ]
  },
  {
   "cell_type": "code",
   "execution_count": 80,
   "metadata": {},
   "outputs": [
    {
     "name": "stdout",
     "output_type": "stream",
     "text": [
      "              precision    recall  f1-score   support\n",
      "\n",
      "           0       0.73      0.87      0.80       125\n",
      "           1       0.38      0.20      0.26        50\n",
      "\n",
      "    accuracy                           0.68       175\n",
      "   macro avg       0.56      0.54      0.53       175\n",
      "weighted avg       0.63      0.68      0.64       175\n",
      "\n"
     ]
    }
   ],
   "source": [
    "print(classification_report ( y_test , y_pred ))"
   ]
  },
  {
   "cell_type": "markdown",
   "metadata": {},
   "source": [
    "###### KNN:"
   ]
  },
  {
   "cell_type": "code",
   "execution_count": 81,
   "metadata": {},
   "outputs": [],
   "source": [
    "knn = KNeighborsClassifier()\n",
    "knn.fit(x_train,y_train)\n",
    "y_pred_train = knn.predict(x_train)\n",
    "y_prob_train = knn.predict_proba(x_train)[:,1]\n",
    "y_pred = knn.predict(x_test)\n",
    "y_prob = knn.predict_proba(x_test)[:,1]"
   ]
  },
  {
   "cell_type": "code",
   "execution_count": 82,
   "metadata": {},
   "outputs": [
    {
     "name": "stdout",
     "output_type": "stream",
     "text": [
      "Accuracy of kNN_train:  0.7965686274509803\n",
      "Accuracy of kNN_test:  0.6114285714285714\n",
      "AUC of kNN_train:  0.8486063382970599\n",
      "AUC of kNN_test:  0.58616\n"
     ]
    }
   ],
   "source": [
    "print('Accuracy of kNN_train: ', accuracy_score(y_pred_train, y_train))\n",
    "print('Accuracy of kNN_test: ', accuracy_score(y_pred, y_test))\n",
    "print('AUC of kNN_train: ', roc_auc_score(y_train, y_prob_train))\n",
    "print('AUC of kNN_test: ', roc_auc_score(y_test, y_prob))\n",
    "accuracy_score_KNN = accuracy_score(y_pred, y_test)"
   ]
  },
  {
   "cell_type": "code",
   "execution_count": 83,
   "metadata": {},
   "outputs": [
    {
     "name": "stdout",
     "output_type": "stream",
     "text": [
      "              precision    recall  f1-score   support\n",
      "\n",
      "           0       0.72      0.75      0.73       125\n",
      "           1       0.30      0.26      0.28        50\n",
      "\n",
      "    accuracy                           0.61       175\n",
      "   macro avg       0.51      0.51      0.51       175\n",
      "weighted avg       0.60      0.61      0.60       175\n",
      "\n"
     ]
    }
   ],
   "source": [
    "print(classification_report ( y_test , y_pred ))"
   ]
  },
  {
   "cell_type": "markdown",
   "metadata": {},
   "source": [
    "###### Naive Bayes:"
   ]
  },
  {
   "cell_type": "code",
   "execution_count": 84,
   "metadata": {},
   "outputs": [],
   "source": [
    "X_train, X_test, y_train, y_test = train_test_split(X, y, test_size=0.3, random_state=1)\n",
    "\n",
    "gnb = GaussianNB ( )\n",
    "gnb.fit(X_train, y_train)\n",
    "\n",
    "y_pred_train = gnb.predict(X_train)\n",
    "y_prob_train = gnb.predict_proba(X_train)[:,1]\n",
    "\n",
    "y_pred = gnb.predict(X_test)\n",
    "y_prob = gnb.predict_proba(X_test)[:,1]"
   ]
  },
  {
   "cell_type": "code",
   "execution_count": 85,
   "metadata": {},
   "outputs": [
    {
     "name": "stdout",
     "output_type": "stream",
     "text": [
      "Accuracy of kNN_train:  0.5294117647058824\n",
      "Accuracy of kNN_test:  0.5885714285714285\n",
      "AUC of kNN_train:  0.7117514024730519\n",
      "AUC of kNN_test:  0.7816000000000001\n"
     ]
    }
   ],
   "source": [
    "print('Accuracy of kNN_train: ', accuracy_score(y_pred_train, y_train))\n",
    "print('Accuracy of kNN_test: ', accuracy_score(y_pred, y_test))\n",
    "print('AUC of kNN_train: ', roc_auc_score(y_train, y_prob_train))\n",
    "print('AUC of kNN_test: ', roc_auc_score(y_test, y_prob))\n",
    "accuracy_score_NB = accuracy_score(y_pred, y_test)"
   ]
  },
  {
   "cell_type": "code",
   "execution_count": 86,
   "metadata": {},
   "outputs": [
    {
     "data": {
      "text/html": [
       "<div>\n",
       "<style scoped>\n",
       "    .dataframe tbody tr th:only-of-type {\n",
       "        vertical-align: middle;\n",
       "    }\n",
       "\n",
       "    .dataframe tbody tr th {\n",
       "        vertical-align: top;\n",
       "    }\n",
       "\n",
       "    .dataframe thead th {\n",
       "        text-align: right;\n",
       "    }\n",
       "</style>\n",
       "<table border=\"1\" class=\"dataframe\">\n",
       "  <thead>\n",
       "    <tr style=\"text-align: right;\">\n",
       "      <th></th>\n",
       "      <th>Model</th>\n",
       "      <th>Accuracy</th>\n",
       "    </tr>\n",
       "  </thead>\n",
       "  <tbody>\n",
       "    <tr>\n",
       "      <th>0</th>\n",
       "      <td>Logit with ML</td>\n",
       "      <td>74.509804</td>\n",
       "    </tr>\n",
       "    <tr>\n",
       "      <th>1</th>\n",
       "      <td>Decision Tree</td>\n",
       "      <td>65.714286</td>\n",
       "    </tr>\n",
       "    <tr>\n",
       "      <th>2</th>\n",
       "      <td>Random Forest</td>\n",
       "      <td>68.000000</td>\n",
       "    </tr>\n",
       "    <tr>\n",
       "      <th>3</th>\n",
       "      <td>KNN</td>\n",
       "      <td>61.142857</td>\n",
       "    </tr>\n",
       "    <tr>\n",
       "      <th>4</th>\n",
       "      <td>Naive Bayes</td>\n",
       "      <td>58.857143</td>\n",
       "    </tr>\n",
       "  </tbody>\n",
       "</table>\n",
       "</div>"
      ],
      "text/plain": [
       "           Model   Accuracy\n",
       "0  Logit with ML  74.509804\n",
       "1  Decision Tree  65.714286\n",
       "2  Random Forest  68.000000\n",
       "3            KNN  61.142857\n",
       "4    Naive Bayes  58.857143"
      ]
     },
     "execution_count": 86,
     "metadata": {},
     "output_type": "execute_result"
    }
   ],
   "source": [
    "d = {'Model': ['Logit with ML', 'Decision Tree', 'Random Forest', 'KNN', 'Naive Bayes'], \n",
    "     'Accuracy': [accuracy_score_Logit*100,accuracy_score_DT*100, accuracy_score_RF*100, accuracy_score_KNN*100 , accuracy_score_NB*100]}\n",
    "df = pd.DataFrame(data=d)\n",
    "df"
   ]
  },
  {
   "cell_type": "markdown",
   "metadata": {},
   "source": [
    "###### Hyperparameter tuning for DT:"
   ]
  },
  {
   "cell_type": "code",
   "execution_count": 87,
   "metadata": {},
   "outputs": [
    {
     "name": "stdout",
     "output_type": "stream",
     "text": [
      "{'criterion': 'entropy', 'max_depth': 3, 'min_samples_leaf': 12, 'min_samples_split': 7}\n"
     ]
    }
   ],
   "source": [
    "from scipy.stats import randint as sp_randint\n",
    "dt = DecisionTreeClassifier(random_state=1)\n",
    "params = {'max_depth' : sp_randint(2,10),\n",
    "          'min_samples_split' : sp_randint(2,50),\n",
    "          'min_samples_leaf' : sp_randint(1,20),\n",
    "         'criterion' : ['gini','entropy']}\n",
    "rand_search = RandomizedSearchCV(dt, param_distributions=params, cv=3, random_state=1)\n",
    "rand_search.fit(X,y)\n",
    "print(rand_search.best_params_)"
   ]
  },
  {
   "cell_type": "code",
   "execution_count": 88,
   "metadata": {},
   "outputs": [],
   "source": [
    "dt = DecisionTreeClassifier(**rand_search.best_params_)\n",
    "\n",
    "dt.fit(x_train,y_train)\n",
    "\n",
    "y_pred_train = dt.predict(x_train)\n",
    "y_prob_train = dt.predict_proba(x_train)[:,1]\n",
    "\n",
    "y_pred = dt.predict(x_test)\n",
    "y_prob = dt.predict_proba(x_test)[:,1]"
   ]
  },
  {
   "cell_type": "code",
   "execution_count": 89,
   "metadata": {},
   "outputs": [
    {
     "name": "stdout",
     "output_type": "stream",
     "text": [
      "Accuracy of Decision Tree_train:  0.7132352941176471\n",
      "Accuracy of Decision Tree_test:  0.7142857142857143\n",
      "AUC of Decision Tree_train:  0.726290128351984\n",
      "AUC of Decision Tree_test:  0.73664\n"
     ]
    }
   ],
   "source": [
    "print('Accuracy of Decision Tree_train: ', accuracy_score(y_pred_train, y_train))\n",
    "print('Accuracy of Decision Tree_test: ', accuracy_score(y_pred, y_test))\n",
    "print('AUC of Decision Tree_train: ', roc_auc_score(y_train, y_prob_train))\n",
    "print('AUC of Decision Tree_test: ', roc_auc_score(y_test, y_prob))\n",
    "accuracy_score_DT_HyperTuning = accuracy_score(y_pred, y_test)"
   ]
  },
  {
   "cell_type": "markdown",
   "metadata": {},
   "source": [
    "###### Hyperparameter tuning for RF:"
   ]
  },
  {
   "cell_type": "code",
   "execution_count": 90,
   "metadata": {},
   "outputs": [
    {
     "data": {
      "text/plain": [
       "{'criterion': 'entropy',\n",
       " 'max_depth': 9,\n",
       " 'max_features': 2,\n",
       " 'min_samples_leaf': 17,\n",
       " 'min_samples_split': 3,\n",
       " 'n_estimators': 17}"
      ]
     },
     "execution_count": 90,
     "metadata": {},
     "output_type": "execute_result"
    }
   ],
   "source": [
    "rfc = RandomForestClassifier(random_state=1)\n",
    "params = {'n_estimators': sp_randint(5,25),\n",
    "          'criterion' : ['gini','entropy'],\n",
    "          'max_depth' : sp_randint(2,10),\n",
    "          'min_samples_split' : sp_randint(2,20),\n",
    "          'min_samples_leaf' : sp_randint(1,20),\n",
    "          'max_features' : sp_randint(2,15)}\n",
    "rand_search_rfc = RandomizedSearchCV(rfc, param_distributions=params, random_state=1, cv=3)\n",
    "rand_search_rfc.fit(X,y)\n",
    "rand_search_rfc.best_params_"
   ]
  },
  {
   "cell_type": "code",
   "execution_count": 91,
   "metadata": {},
   "outputs": [],
   "source": [
    "rfc = RandomForestClassifier(**rand_search_rfc.best_params_)\n",
    "rfc.fit(x_train,y_train)\n",
    "y_pred_train = rfc.predict(x_train)\n",
    "y_prob_train = rfc.predict_proba(x_train)[:,1]\n",
    "y_pred = rfc.predict(x_test)\n",
    "y_prob = rfc.predict_proba(x_test)[:,1]"
   ]
  },
  {
   "cell_type": "code",
   "execution_count": 92,
   "metadata": {},
   "outputs": [
    {
     "name": "stdout",
     "output_type": "stream",
     "text": [
      "Accuracy of RandomForest_train:  0.7450980392156863\n",
      "Accuracy of RandomForest_test:  0.6914285714285714\n",
      "AUC of RandomForest_train:  0.8270185332041001\n",
      "AUC of RandomForest_test:  0.7615999999999999\n"
     ]
    }
   ],
   "source": [
    "print('Accuracy of RandomForest_train: ', accuracy_score(y_pred_train, y_train))\n",
    "print('Accuracy of RandomForest_test: ', accuracy_score(y_pred, y_test))\n",
    "print('AUC of RandomForest_train: ', roc_auc_score(y_train, y_prob_train))\n",
    "print('AUC of RandomForest_test: ', roc_auc_score(y_test, y_prob))\n",
    "accuracy_score_RF_HyperTuning = accuracy_score(y_pred, y_test)"
   ]
  },
  {
   "cell_type": "markdown",
   "metadata": {},
   "source": [
    "###### Hyperparameter tuning for KNN:"
   ]
  },
  {
   "cell_type": "code",
   "execution_count": 93,
   "metadata": {},
   "outputs": [
    {
     "data": {
      "text/plain": [
       "{'n_neighbors': 10, 'p': 4}"
      ]
     },
     "execution_count": 93,
     "metadata": {},
     "output_type": "execute_result"
    }
   ],
   "source": [
    "knn = KNeighborsClassifier()\n",
    "params = {'n_neighbors': sp_randint(5,25),\n",
    "          'p' : sp_randint(1,5)}\n",
    "rand_search_knn = RandomizedSearchCV(knn, param_distributions=params, cv=3, random_state=1)\n",
    "rand_search_knn.fit(X,y)\n",
    "rand_search_knn.best_params_"
   ]
  },
  {
   "cell_type": "code",
   "execution_count": 94,
   "metadata": {},
   "outputs": [],
   "source": [
    "knn = KNeighborsClassifier(**rand_search_knn.best_params_)\n",
    "knn.fit(x_train,y_train)\n",
    "y_pred_train = knn.predict(x_train)\n",
    "y_prob_train = knn.predict_proba(x_train)[:,1]\n",
    "y_pred = knn.predict(x_test)\n",
    "y_prob = knn.predict_proba(x_test)[:,1]"
   ]
  },
  {
   "cell_type": "code",
   "execution_count": 95,
   "metadata": {},
   "outputs": [
    {
     "name": "stdout",
     "output_type": "stream",
     "text": [
      "Accuracy of kNN_train:  0.7696078431372549\n",
      "Accuracy of kNN_test:  0.68\n",
      "AUC of kNN_train:  0.8149469850500779\n",
      "AUC of kNN_test:  0.62128\n"
     ]
    }
   ],
   "source": [
    "print('Accuracy of kNN_train: ', accuracy_score(y_pred_train, y_train))\n",
    "print('Accuracy of kNN_test: ', accuracy_score(y_pred, y_test))\n",
    "print('AUC of kNN_train: ', roc_auc_score(y_train, y_prob_train))\n",
    "print('AUC of kNN_test: ', roc_auc_score(y_test, y_prob))\n",
    "accuracy_score_KNN_HyperTuning = accuracy_score(y_pred, y_test)"
   ]
  },
  {
   "cell_type": "code",
   "execution_count": 96,
   "metadata": {},
   "outputs": [],
   "source": [
    "d = {'Model': ['Logit with ML','Decision Tree', 'Random Forest', 'KNN'], \n",
    "     'Accuracy_HyperTuning': [accuracy_score_Logit_ML*100, accuracy_score_DT_HyperTuning*100, accuracy_score_RF_HyperTuning*100, accuracy_score_KNN_HyperTuning*100]}\n",
    "df2 = pd.DataFrame(data=d)"
   ]
  },
  {
   "cell_type": "code",
   "execution_count": 97,
   "metadata": {},
   "outputs": [
    {
     "name": "stdout",
     "output_type": "stream",
     "text": [
      "Accuracy before tuning:\n"
     ]
    },
    {
     "data": {
      "text/html": [
       "<div>\n",
       "<style scoped>\n",
       "    .dataframe tbody tr th:only-of-type {\n",
       "        vertical-align: middle;\n",
       "    }\n",
       "\n",
       "    .dataframe tbody tr th {\n",
       "        vertical-align: top;\n",
       "    }\n",
       "\n",
       "    .dataframe thead th {\n",
       "        text-align: right;\n",
       "    }\n",
       "</style>\n",
       "<table border=\"1\" class=\"dataframe\">\n",
       "  <thead>\n",
       "    <tr style=\"text-align: right;\">\n",
       "      <th></th>\n",
       "      <th>Model</th>\n",
       "      <th>Accuracy</th>\n",
       "    </tr>\n",
       "  </thead>\n",
       "  <tbody>\n",
       "    <tr>\n",
       "      <th>0</th>\n",
       "      <td>Logit with ML</td>\n",
       "      <td>74.509804</td>\n",
       "    </tr>\n",
       "    <tr>\n",
       "      <th>1</th>\n",
       "      <td>Decision Tree</td>\n",
       "      <td>65.714286</td>\n",
       "    </tr>\n",
       "    <tr>\n",
       "      <th>2</th>\n",
       "      <td>Random Forest</td>\n",
       "      <td>68.000000</td>\n",
       "    </tr>\n",
       "    <tr>\n",
       "      <th>3</th>\n",
       "      <td>KNN</td>\n",
       "      <td>61.142857</td>\n",
       "    </tr>\n",
       "    <tr>\n",
       "      <th>4</th>\n",
       "      <td>Naive Bayes</td>\n",
       "      <td>58.857143</td>\n",
       "    </tr>\n",
       "  </tbody>\n",
       "</table>\n",
       "</div>"
      ],
      "text/plain": [
       "           Model   Accuracy\n",
       "0  Logit with ML  74.509804\n",
       "1  Decision Tree  65.714286\n",
       "2  Random Forest  68.000000\n",
       "3            KNN  61.142857\n",
       "4    Naive Bayes  58.857143"
      ]
     },
     "execution_count": 97,
     "metadata": {},
     "output_type": "execute_result"
    }
   ],
   "source": [
    "print('Accuracy before tuning:')\n",
    "df"
   ]
  },
  {
   "cell_type": "code",
   "execution_count": 98,
   "metadata": {},
   "outputs": [
    {
     "name": "stdout",
     "output_type": "stream",
     "text": [
      "Accuracy after tuning:\n"
     ]
    },
    {
     "data": {
      "text/html": [
       "<div>\n",
       "<style scoped>\n",
       "    .dataframe tbody tr th:only-of-type {\n",
       "        vertical-align: middle;\n",
       "    }\n",
       "\n",
       "    .dataframe tbody tr th {\n",
       "        vertical-align: top;\n",
       "    }\n",
       "\n",
       "    .dataframe thead th {\n",
       "        text-align: right;\n",
       "    }\n",
       "</style>\n",
       "<table border=\"1\" class=\"dataframe\">\n",
       "  <thead>\n",
       "    <tr style=\"text-align: right;\">\n",
       "      <th></th>\n",
       "      <th>Model</th>\n",
       "      <th>Accuracy_HyperTuning</th>\n",
       "    </tr>\n",
       "  </thead>\n",
       "  <tbody>\n",
       "    <tr>\n",
       "      <th>0</th>\n",
       "      <td>Logit with ML</td>\n",
       "      <td>72.571429</td>\n",
       "    </tr>\n",
       "    <tr>\n",
       "      <th>1</th>\n",
       "      <td>Decision Tree</td>\n",
       "      <td>71.428571</td>\n",
       "    </tr>\n",
       "    <tr>\n",
       "      <th>2</th>\n",
       "      <td>Random Forest</td>\n",
       "      <td>69.142857</td>\n",
       "    </tr>\n",
       "    <tr>\n",
       "      <th>3</th>\n",
       "      <td>KNN</td>\n",
       "      <td>68.000000</td>\n",
       "    </tr>\n",
       "  </tbody>\n",
       "</table>\n",
       "</div>"
      ],
      "text/plain": [
       "           Model  Accuracy_HyperTuning\n",
       "0  Logit with ML             72.571429\n",
       "1  Decision Tree             71.428571\n",
       "2  Random Forest             69.142857\n",
       "3            KNN             68.000000"
      ]
     },
     "execution_count": 98,
     "metadata": {},
     "output_type": "execute_result"
    }
   ],
   "source": [
    "print('Accuracy after tuning:')\n",
    "df2"
   ]
  },
  {
   "cell_type": "code",
   "execution_count": 99,
   "metadata": {},
   "outputs": [],
   "source": [
    "d = {'Model': ['Logit with ML','Decision Tree', 'Random Forest', 'KNN', 'NaiveBayes'], \n",
    "     'Accuracy': [accuracy_score_Logit*100,accuracy_score_DT*100, accuracy_score_RF*100, accuracy_score_KNN*100 ,\n",
    "                  accuracy_score_NB*100],\n",
    "     'Accuracy_HyperTuning': [accuracy_score_Logit_ML*100, accuracy_score_DT_HyperTuning*100,\n",
    "                              accuracy_score_RF_HyperTuning*100, accuracy_score_KNN_HyperTuning*100, accuracy_score_NB*100]\n",
    "    }\n",
    "df3 = pd.DataFrame(data=d)"
   ]
  },
  {
   "cell_type": "code",
   "execution_count": 100,
   "metadata": {},
   "outputs": [
    {
     "name": "stdout",
     "output_type": "stream",
     "text": [
      "Accuracy comparision before and after tuning:\n"
     ]
    },
    {
     "data": {
      "text/html": [
       "<div>\n",
       "<style scoped>\n",
       "    .dataframe tbody tr th:only-of-type {\n",
       "        vertical-align: middle;\n",
       "    }\n",
       "\n",
       "    .dataframe tbody tr th {\n",
       "        vertical-align: top;\n",
       "    }\n",
       "\n",
       "    .dataframe thead th {\n",
       "        text-align: right;\n",
       "    }\n",
       "</style>\n",
       "<table border=\"1\" class=\"dataframe\">\n",
       "  <thead>\n",
       "    <tr style=\"text-align: right;\">\n",
       "      <th></th>\n",
       "      <th>Model</th>\n",
       "      <th>Accuracy</th>\n",
       "      <th>Accuracy_HyperTuning</th>\n",
       "    </tr>\n",
       "  </thead>\n",
       "  <tbody>\n",
       "    <tr>\n",
       "      <th>0</th>\n",
       "      <td>Logit with ML</td>\n",
       "      <td>74.509804</td>\n",
       "      <td>72.571429</td>\n",
       "    </tr>\n",
       "    <tr>\n",
       "      <th>1</th>\n",
       "      <td>Decision Tree</td>\n",
       "      <td>65.714286</td>\n",
       "      <td>71.428571</td>\n",
       "    </tr>\n",
       "    <tr>\n",
       "      <th>2</th>\n",
       "      <td>Random Forest</td>\n",
       "      <td>68.000000</td>\n",
       "      <td>69.142857</td>\n",
       "    </tr>\n",
       "    <tr>\n",
       "      <th>3</th>\n",
       "      <td>KNN</td>\n",
       "      <td>61.142857</td>\n",
       "      <td>68.000000</td>\n",
       "    </tr>\n",
       "    <tr>\n",
       "      <th>4</th>\n",
       "      <td>NaiveBayes</td>\n",
       "      <td>58.857143</td>\n",
       "      <td>58.857143</td>\n",
       "    </tr>\n",
       "  </tbody>\n",
       "</table>\n",
       "</div>"
      ],
      "text/plain": [
       "           Model   Accuracy  Accuracy_HyperTuning\n",
       "0  Logit with ML  74.509804             72.571429\n",
       "1  Decision Tree  65.714286             71.428571\n",
       "2  Random Forest  68.000000             69.142857\n",
       "3            KNN  61.142857             68.000000\n",
       "4     NaiveBayes  58.857143             58.857143"
      ]
     },
     "execution_count": 100,
     "metadata": {},
     "output_type": "execute_result"
    }
   ],
   "source": [
    "print('Accuracy comparision before and after tuning:')\n",
    "df3"
   ]
  },
  {
   "cell_type": "markdown",
   "metadata": {},
   "source": [
    "- From the above dataframes we can conclude that The best accuracy model with accuracy score 74.50% is using logestic Regression befor hyperparameter tuning.\n",
    "- After hyper parameter tuning the highest accuracy that is achieved is 72.57% which is lower than that of before tuning.\n",
    "- Rest all the accuracy has comparatevely increased"
   ]
  },
  {
   "cell_type": "markdown",
   "metadata": {},
   "source": [
    "#### Summerizing the overall fit of the model:"
   ]
  },
  {
   "cell_type": "markdown",
   "metadata": {},
   "source": [
    "- It can be seen that Logit before tuning gives the best model and it was the best fit amongst all the other models. \n",
    "- The changes which made the model better was solver='lbfgs' during fitting the base model."
   ]
  },
  {
   "cell_type": "markdown",
   "metadata": {},
   "source": [
    "#### Features affecting the target more :"
   ]
  },
  {
   "cell_type": "code",
   "execution_count": 101,
   "metadata": {},
   "outputs": [
    {
     "data": {
      "text/plain": [
       "Age        -0.137351\n",
       "TB         -0.220208\n",
       "DB         -0.246046\n",
       "AAP        -0.184866\n",
       "SGPT       -0.163416\n",
       "SGOT       -0.151934\n",
       "TP          0.035008\n",
       "ALB         0.161388\n",
       "AGRAGR      0.162843\n",
       "Selector    1.000000\n",
       "Name: Selector, dtype: float64"
      ]
     },
     "execution_count": 101,
     "metadata": {},
     "output_type": "execute_result"
    }
   ],
   "source": [
    "target"
   ]
  },
  {
   "cell_type": "code",
   "execution_count": 102,
   "metadata": {},
   "outputs": [
    {
     "name": "stdout",
     "output_type": "stream",
     "text": [
      "The variables affecting the target variable at most are:  ['Age', 'DB', 'SGPT', 'TP', 'ALB']\n"
     ]
    }
   ],
   "source": [
    "print('The variables affecting the target variable at most are: ',cols[1:6])"
   ]
  },
  {
   "cell_type": "markdown",
   "metadata": {},
   "source": [
    "#### Changes from the base model that had the most effect on model performance:"
   ]
  },
  {
   "cell_type": "markdown",
   "metadata": {},
   "source": [
    "- Changing the solver='lbfgs' to solver='liblinear' decreased the model accuracy by 0.02"
   ]
  },
  {
   "cell_type": "markdown",
   "metadata": {},
   "source": [
    "#### Key risks to your results and interpretation:"
   ]
  },
  {
   "cell_type": "markdown",
   "metadata": {},
   "source": [
    "- The key risks to my interpretations are that it might change as new data is brought in.\n",
    "- Depending on the data the hyperparameters might need some tuning again.\n",
    "- Other mode could work better such as Xgboost."
   ]
  },
  {
   "cell_type": "code",
   "execution_count": null,
   "metadata": {},
   "outputs": [],
   "source": []
  }
 ],
 "metadata": {
  "kernelspec": {
   "display_name": "Python 3",
   "language": "python",
   "name": "python3"
  },
  "language_info": {
   "codemirror_mode": {
    "name": "ipython",
    "version": 3
   },
   "file_extension": ".py",
   "mimetype": "text/x-python",
   "name": "python",
   "nbconvert_exporter": "python",
   "pygments_lexer": "ipython3",
   "version": "3.7.3"
  }
 },
 "nbformat": 4,
 "nbformat_minor": 1
}
